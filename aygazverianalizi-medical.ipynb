{
 "cells": [
  {
   "cell_type": "code",
   "execution_count": 1,
   "id": "4c6aaa3f",
   "metadata": {
    "_cell_guid": "b1076dfc-b9ad-4769-8c92-a6c4dae69d19",
    "_uuid": "8f2839f25d086af736a60e9eeb907d3b93b6e0e5",
    "execution": {
     "iopub.execute_input": "2024-11-23T12:30:37.060640Z",
     "iopub.status.busy": "2024-11-23T12:30:37.059935Z",
     "iopub.status.idle": "2024-11-23T12:30:39.599311Z",
     "shell.execute_reply": "2024-11-23T12:30:39.598324Z"
    },
    "papermill": {
     "duration": 2.562472,
     "end_time": "2024-11-23T12:30:39.601704",
     "exception": false,
     "start_time": "2024-11-23T12:30:37.039232",
     "status": "completed"
    },
    "tags": []
   },
   "outputs": [],
   "source": [
    "import pandas as pd\n",
    "import numpy as np\n",
    "import matplotlib.pyplot as plt\n",
    "import seaborn as sns\n",
    "import missingno as msno\n",
    "import matplotlib.ticker as ticker"
   ]
  },
  {
   "cell_type": "markdown",
   "id": "6d6f8eaf",
   "metadata": {
    "papermill": {
     "duration": 0.015754,
     "end_time": "2024-11-23T12:30:39.634042",
     "exception": false,
     "start_time": "2024-11-23T12:30:39.618288",
     "status": "completed"
    },
    "tags": []
   },
   "source": [
    "Kullanacağımız kütüphanelerimiz ekliyoruz."
   ]
  },
  {
   "cell_type": "code",
   "execution_count": 2,
   "id": "259536f8",
   "metadata": {
    "execution": {
     "iopub.execute_input": "2024-11-23T12:30:39.668235Z",
     "iopub.status.busy": "2024-11-23T12:30:39.667571Z",
     "iopub.status.idle": "2024-11-23T12:30:40.474340Z",
     "shell.execute_reply": "2024-11-23T12:30:40.473294Z"
    },
    "papermill": {
     "duration": 0.826335,
     "end_time": "2024-11-23T12:30:40.476870",
     "exception": false,
     "start_time": "2024-11-23T12:30:39.650535",
     "status": "completed"
    },
    "tags": []
   },
   "outputs": [],
   "source": [
    "# Veri setini notebook içerisine dahil edelim.\n",
    "\n",
    "df_ = pd.read_csv(filepath_or_buffer = \"/kaggle/input/medical-and-student/medical_students_dataset.csv\")\n",
    "df = df_.copy()"
   ]
  },
  {
   "cell_type": "markdown",
   "id": "51f26ed2",
   "metadata": {
    "papermill": {
     "duration": 0.015705,
     "end_time": "2024-11-23T12:30:40.508851",
     "exception": false,
     "start_time": "2024-11-23T12:30:40.493146",
     "status": "completed"
    },
    "tags": []
   },
   "source": [
    "Burada veri setimi \"df\" olarak adlandırıyorum ve veri setimi ekliyorum. Bir kopyasını alıyorum çünkü kopya üzerinde işlemleri uygulayacağım."
   ]
  },
  {
   "cell_type": "code",
   "execution_count": 3,
   "id": "f759e9f1",
   "metadata": {
    "execution": {
     "iopub.execute_input": "2024-11-23T12:30:40.542310Z",
     "iopub.status.busy": "2024-11-23T12:30:40.541933Z",
     "iopub.status.idle": "2024-11-23T12:30:41.747336Z",
     "shell.execute_reply": "2024-11-23T12:30:41.746352Z"
    },
    "papermill": {
     "duration": 1.224957,
     "end_time": "2024-11-23T12:30:41.749781",
     "exception": false,
     "start_time": "2024-11-23T12:30:40.524824",
     "status": "completed"
    },
    "tags": []
   },
   "outputs": [],
   "source": [
    "import random\n",
    "\n",
    "def add_random_missing_values(dataframe: pd.DataFrame,\n",
    "                              missing_rate: float = 0.03,\n",
    "                              seed: random = 42) -> pd.DataFrame:\n",
    "    \"\"\"Turns random values to NaN in a DataFrame.\n",
    "    \n",
    "    To use this function, you need to import pandas, numpy and random libraries.\n",
    "\n",
    "    Args:\n",
    "        dataframe (pd.DataFrame): DataFrame to be processed.\n",
    "        missing_rate (float): Percentage of missing value rate in float format. Defaults 0.05\n",
    "\n",
    "    \n",
    "    \"\"\"\n",
    "    # Get copy of dataframe\n",
    "    df_missing = dataframe.copy()\n",
    "\n",
    "    # Obtain size of dataframe and number total number of missing values\n",
    "    df_size = dataframe.size\n",
    "    num_missing = int(df_size * missing_rate)\n",
    "    # Set seed\n",
    "    if seed:\n",
    "        random.seed(seed)\n",
    "\n",
    "    # Get random row and column indexes to turn them NaN\n",
    "    for _ in range(num_missing):\n",
    "        row_idx = random.randint(0, dataframe.shape[0] - 1)\n",
    "        col_idx = random.randint(0, dataframe.shape[1] - 1)\n",
    "\n",
    "        df_missing.iat[row_idx, col_idx] = np.nan\n",
    "        \n",
    "    return df_missing\n",
    "\n",
    "df = add_random_missing_values(dataframe = df,\n",
    "                               missing_rate = 0.03)"
   ]
  },
  {
   "cell_type": "markdown",
   "id": "c49ec965",
   "metadata": {
    "papermill": {
     "duration": 0.015771,
     "end_time": "2024-11-23T12:30:41.781936",
     "exception": false,
     "start_time": "2024-11-23T12:30:41.766165",
     "status": "completed"
    },
    "tags": []
   },
   "source": [
    "Projemin gereksinimi olarak her sütunda 0.03 yüzdelikte kayıp veri oluşturdum."
   ]
  },
  {
   "cell_type": "markdown",
   "id": "c530b523",
   "metadata": {
    "papermill": {
     "duration": 0.016407,
     "end_time": "2024-11-23T12:30:41.815758",
     "exception": false,
     "start_time": "2024-11-23T12:30:41.799351",
     "status": "completed"
    },
    "tags": []
   },
   "source": [
    "## VERİ SETİNİ TANIYALIM\n",
    "\n",
    "\n",
    "Student ID: Öğrenciye ait benzersiz kimlik numarası\n",
    "Age: Öğrencinin yaşı (yıl olarak)\n",
    "Gender: Cinsiyeti (ör. \"Male\", \"Female\")\n",
    "Height: Boyu (cm veya metre cinsinden)\n",
    "Weight: Kilosu (kg cinsinden)\n",
    "Blood Type: Kan grubu (ör. \"A+\", \"O-\")\n",
    "BMI: Vücut kitle indeksi, kilo ve boy oranı ile hesaplanır\n",
    "Temperature: Vücut sıcaklığı (°C cinsinden)\n",
    "Heart Rate: Kalp atış hızı (dakikadaki atım sayısı)\n",
    "Blood Pressure: Kan basıncı (ör. 120/80 mmHg)\n",
    "Cholesterol: Kandaki kolesterol seviyesi\n",
    "Diabetes: Diyabet durumu (var/yok)\n",
    "Smoking: Sigara içme durumu (ör. \"Yes\", \"No\")\n",
    "rumu (ör. Yes\", \"No\").im"
   ]
  },
  {
   "cell_type": "code",
   "execution_count": 4,
   "id": "54ffb89a",
   "metadata": {
    "execution": {
     "iopub.execute_input": "2024-11-23T12:30:41.849104Z",
     "iopub.status.busy": "2024-11-23T12:30:41.848718Z",
     "iopub.status.idle": "2024-11-23T12:30:41.876030Z",
     "shell.execute_reply": "2024-11-23T12:30:41.875073Z"
    },
    "papermill": {
     "duration": 0.046614,
     "end_time": "2024-11-23T12:30:41.878304",
     "exception": false,
     "start_time": "2024-11-23T12:30:41.831690",
     "status": "completed"
    },
    "tags": []
   },
   "outputs": [
    {
     "data": {
      "text/html": [
       "<div>\n",
       "<style scoped>\n",
       "    .dataframe tbody tr th:only-of-type {\n",
       "        vertical-align: middle;\n",
       "    }\n",
       "\n",
       "    .dataframe tbody tr th {\n",
       "        vertical-align: top;\n",
       "    }\n",
       "\n",
       "    .dataframe thead th {\n",
       "        text-align: right;\n",
       "    }\n",
       "</style>\n",
       "<table border=\"1\" class=\"dataframe\">\n",
       "  <thead>\n",
       "    <tr style=\"text-align: right;\">\n",
       "      <th></th>\n",
       "      <th>Student ID</th>\n",
       "      <th>Age</th>\n",
       "      <th>Gender</th>\n",
       "      <th>Height</th>\n",
       "      <th>Weight</th>\n",
       "      <th>Blood Type</th>\n",
       "      <th>BMI</th>\n",
       "      <th>Temperature</th>\n",
       "      <th>Heart Rate</th>\n",
       "      <th>Blood Pressure</th>\n",
       "      <th>Cholesterol</th>\n",
       "      <th>Diabetes</th>\n",
       "      <th>Smoking</th>\n",
       "    </tr>\n",
       "  </thead>\n",
       "  <tbody>\n",
       "    <tr>\n",
       "      <th>0</th>\n",
       "      <td>1.0</td>\n",
       "      <td>18.0</td>\n",
       "      <td>Female</td>\n",
       "      <td>161.777924</td>\n",
       "      <td>72.354947</td>\n",
       "      <td>O</td>\n",
       "      <td>27.645835</td>\n",
       "      <td>NaN</td>\n",
       "      <td>95.0</td>\n",
       "      <td>109.0</td>\n",
       "      <td>203.0</td>\n",
       "      <td>No</td>\n",
       "      <td>NaN</td>\n",
       "    </tr>\n",
       "    <tr>\n",
       "      <th>1</th>\n",
       "      <td>2.0</td>\n",
       "      <td>NaN</td>\n",
       "      <td>Male</td>\n",
       "      <td>152.069157</td>\n",
       "      <td>NaN</td>\n",
       "      <td>B</td>\n",
       "      <td>NaN</td>\n",
       "      <td>98.714977</td>\n",
       "      <td>93.0</td>\n",
       "      <td>104.0</td>\n",
       "      <td>163.0</td>\n",
       "      <td>No</td>\n",
       "      <td>No</td>\n",
       "    </tr>\n",
       "    <tr>\n",
       "      <th>2</th>\n",
       "      <td>3.0</td>\n",
       "      <td>32.0</td>\n",
       "      <td>Female</td>\n",
       "      <td>182.537664</td>\n",
       "      <td>55.741083</td>\n",
       "      <td>A</td>\n",
       "      <td>16.729017</td>\n",
       "      <td>98.260293</td>\n",
       "      <td>76.0</td>\n",
       "      <td>130.0</td>\n",
       "      <td>216.0</td>\n",
       "      <td>Yes</td>\n",
       "      <td>No</td>\n",
       "    </tr>\n",
       "    <tr>\n",
       "      <th>3</th>\n",
       "      <td>NaN</td>\n",
       "      <td>30.0</td>\n",
       "      <td>Male</td>\n",
       "      <td>182.112867</td>\n",
       "      <td>63.332207</td>\n",
       "      <td>B</td>\n",
       "      <td>19.096042</td>\n",
       "      <td>98.839605</td>\n",
       "      <td>99.0</td>\n",
       "      <td>112.0</td>\n",
       "      <td>141.0</td>\n",
       "      <td>No</td>\n",
       "      <td>Yes</td>\n",
       "    </tr>\n",
       "    <tr>\n",
       "      <th>4</th>\n",
       "      <td>5.0</td>\n",
       "      <td>23.0</td>\n",
       "      <td>Female</td>\n",
       "      <td>NaN</td>\n",
       "      <td>46.234173</td>\n",
       "      <td>O</td>\n",
       "      <td>NaN</td>\n",
       "      <td>98.480008</td>\n",
       "      <td>95.0</td>\n",
       "      <td>NaN</td>\n",
       "      <td>231.0</td>\n",
       "      <td>No</td>\n",
       "      <td>No</td>\n",
       "    </tr>\n",
       "  </tbody>\n",
       "</table>\n",
       "</div>"
      ],
      "text/plain": [
       "   Student ID   Age  Gender      Height     Weight Blood Type        BMI  \\\n",
       "0         1.0  18.0  Female  161.777924  72.354947          O  27.645835   \n",
       "1         2.0   NaN    Male  152.069157        NaN          B        NaN   \n",
       "2         3.0  32.0  Female  182.537664  55.741083          A  16.729017   \n",
       "3         NaN  30.0    Male  182.112867  63.332207          B  19.096042   \n",
       "4         5.0  23.0  Female         NaN  46.234173          O        NaN   \n",
       "\n",
       "   Temperature  Heart Rate  Blood Pressure  Cholesterol Diabetes Smoking  \n",
       "0          NaN        95.0           109.0        203.0       No     NaN  \n",
       "1    98.714977        93.0           104.0        163.0       No      No  \n",
       "2    98.260293        76.0           130.0        216.0      Yes      No  \n",
       "3    98.839605        99.0           112.0        141.0       No     Yes  \n",
       "4    98.480008        95.0             NaN        231.0       No      No  "
      ]
     },
     "execution_count": 4,
     "metadata": {},
     "output_type": "execute_result"
    }
   ],
   "source": [
    "df.head()\n"
   ]
  },
  {
   "cell_type": "markdown",
   "id": "ab5f3b1e",
   "metadata": {
    "papermill": {
     "duration": 0.01581,
     "end_time": "2024-11-23T12:30:41.910605",
     "exception": false,
     "start_time": "2024-11-23T12:30:41.894795",
     "status": "completed"
    },
    "tags": []
   },
   "source": [
    "Verilerimiziz ilk 5 gözlemine bakıyoruz.  "
   ]
  },
  {
   "cell_type": "code",
   "execution_count": 5,
   "id": "361dc77d",
   "metadata": {
    "execution": {
     "iopub.execute_input": "2024-11-23T12:30:41.945314Z",
     "iopub.status.busy": "2024-11-23T12:30:41.944367Z",
     "iopub.status.idle": "2024-11-23T12:30:41.951052Z",
     "shell.execute_reply": "2024-11-23T12:30:41.949980Z"
    },
    "papermill": {
     "duration": 0.026506,
     "end_time": "2024-11-23T12:30:41.953225",
     "exception": false,
     "start_time": "2024-11-23T12:30:41.926719",
     "status": "completed"
    },
    "tags": []
   },
   "outputs": [
    {
     "data": {
      "text/plain": [
       "(200000, 13)"
      ]
     },
     "execution_count": 5,
     "metadata": {},
     "output_type": "execute_result"
    }
   ],
   "source": [
    "df.shape"
   ]
  },
  {
   "cell_type": "markdown",
   "id": "2608c571",
   "metadata": {
    "papermill": {
     "duration": 0.015963,
     "end_time": "2024-11-23T12:30:41.985611",
     "exception": false,
     "start_time": "2024-11-23T12:30:41.969648",
     "status": "completed"
    },
    "tags": []
   },
   "source": [
    "Toplamda kaç satır ve sütun verimiz olduğunu görüyoruz. "
   ]
  },
  {
   "cell_type": "code",
   "execution_count": 6,
   "id": "2fb22648",
   "metadata": {
    "execution": {
     "iopub.execute_input": "2024-11-23T12:30:42.020565Z",
     "iopub.status.busy": "2024-11-23T12:30:42.020159Z",
     "iopub.status.idle": "2024-11-23T12:30:42.027138Z",
     "shell.execute_reply": "2024-11-23T12:30:42.026139Z"
    },
    "papermill": {
     "duration": 0.027128,
     "end_time": "2024-11-23T12:30:42.029043",
     "exception": false,
     "start_time": "2024-11-23T12:30:42.001915",
     "status": "completed"
    },
    "tags": []
   },
   "outputs": [
    {
     "data": {
      "text/plain": [
       "Index(['Student ID', 'Age', 'Gender', 'Height', 'Weight', 'Blood Type', 'BMI',\n",
       "       'Temperature', 'Heart Rate', 'Blood Pressure', 'Cholesterol',\n",
       "       'Diabetes', 'Smoking'],\n",
       "      dtype='object')"
      ]
     },
     "execution_count": 6,
     "metadata": {},
     "output_type": "execute_result"
    }
   ],
   "source": [
    "df.columns"
   ]
  },
  {
   "cell_type": "markdown",
   "id": "e0e0757a",
   "metadata": {
    "papermill": {
     "duration": 0.016244,
     "end_time": "2024-11-23T12:30:42.061817",
     "exception": false,
     "start_time": "2024-11-23T12:30:42.045573",
     "status": "completed"
    },
    "tags": []
   },
   "source": [
    "Burada sütunlarımızın başlıklarını görüyoruz. "
   ]
  },
  {
   "cell_type": "code",
   "execution_count": 7,
   "id": "07f16814",
   "metadata": {
    "execution": {
     "iopub.execute_input": "2024-11-23T12:30:42.096295Z",
     "iopub.status.busy": "2024-11-23T12:30:42.095893Z",
     "iopub.status.idle": "2024-11-23T12:30:42.162525Z",
     "shell.execute_reply": "2024-11-23T12:30:42.161274Z"
    },
    "papermill": {
     "duration": 0.0868,
     "end_time": "2024-11-23T12:30:42.164887",
     "exception": false,
     "start_time": "2024-11-23T12:30:42.078087",
     "status": "completed"
    },
    "tags": []
   },
   "outputs": [
    {
     "name": "stdout",
     "output_type": "stream",
     "text": [
      "<class 'pandas.core.frame.DataFrame'>\n",
      "RangeIndex: 200000 entries, 0 to 199999\n",
      "Data columns (total 13 columns):\n",
      " #   Column          Non-Null Count   Dtype  \n",
      "---  ------          --------------   -----  \n",
      " 0   Student ID      174649 non-null  float64\n",
      " 1   Age             174561 non-null  float64\n",
      " 2   Gender          174777 non-null  object \n",
      " 3   Height          174603 non-null  float64\n",
      " 4   Weight          174838 non-null  float64\n",
      " 5   Blood Type      174711 non-null  object \n",
      " 6   BMI             174602 non-null  float64\n",
      " 7   Temperature     174625 non-null  float64\n",
      " 8   Heart Rate      174785 non-null  float64\n",
      " 9   Blood Pressure  174745 non-null  float64\n",
      " 10  Cholesterol     174504 non-null  float64\n",
      " 11  Diabetes        174730 non-null  object \n",
      " 12  Smoking         174715 non-null  object \n",
      "dtypes: float64(9), object(4)\n",
      "memory usage: 19.8+ MB\n"
     ]
    }
   ],
   "source": [
    "df.info()"
   ]
  },
  {
   "cell_type": "markdown",
   "id": "04227b00",
   "metadata": {
    "papermill": {
     "duration": 0.017508,
     "end_time": "2024-11-23T12:30:42.199188",
     "exception": false,
     "start_time": "2024-11-23T12:30:42.181680",
     "status": "completed"
    },
    "tags": []
   },
   "source": [
    "Her bir sütunda kaç adet eksik olmayan veri olduğunu ve sütunlarımızın türünü burada görüyoruz. 4 kategorik 8 adet numerik değişkenim bulunduğunu burada gözlemiyoruz."
   ]
  },
  {
   "cell_type": "code",
   "execution_count": 8,
   "id": "bba88fc5",
   "metadata": {
    "execution": {
     "iopub.execute_input": "2024-11-23T12:30:42.234526Z",
     "iopub.status.busy": "2024-11-23T12:30:42.233738Z",
     "iopub.status.idle": "2024-11-23T12:30:42.241428Z",
     "shell.execute_reply": "2024-11-23T12:30:42.240433Z"
    },
    "papermill": {
     "duration": 0.027652,
     "end_time": "2024-11-23T12:30:42.243564",
     "exception": false,
     "start_time": "2024-11-23T12:30:42.215912",
     "status": "completed"
    },
    "tags": []
   },
   "outputs": [
    {
     "data": {
      "text/plain": [
       "Student ID        float64\n",
       "Age               float64\n",
       "Gender             object\n",
       "Height            float64\n",
       "Weight            float64\n",
       "Blood Type         object\n",
       "BMI               float64\n",
       "Temperature       float64\n",
       "Heart Rate        float64\n",
       "Blood Pressure    float64\n",
       "Cholesterol       float64\n",
       "Diabetes           object\n",
       "Smoking            object\n",
       "dtype: object"
      ]
     },
     "execution_count": 8,
     "metadata": {},
     "output_type": "execute_result"
    }
   ],
   "source": [
    "df.dtypes"
   ]
  },
  {
   "cell_type": "markdown",
   "id": "ec9f44a4",
   "metadata": {
    "papermill": {
     "duration": 0.016466,
     "end_time": "2024-11-23T12:30:42.277061",
     "exception": false,
     "start_time": "2024-11-23T12:30:42.260595",
     "status": "completed"
    },
    "tags": []
   },
   "source": [
    "Değişkenlerin türünü ayrıca görmek istersek bu şekilde getirebiliyoruz."
   ]
  },
  {
   "cell_type": "markdown",
   "id": "0595aff0",
   "metadata": {
    "papermill": {
     "duration": 0.016517,
     "end_time": "2024-11-23T12:30:42.310043",
     "exception": false,
     "start_time": "2024-11-23T12:30:42.293526",
     "status": "completed"
    },
    "tags": []
   },
   "source": [
    "## SÜTUNLARI SINIFLANDIRMA\n",
    "\n",
    "\r\n",
    "Veri setimdehem  kategorikhemdee numeric değişkenler buluuyor bu yüzdena daha sonraki aşamalarda kolaylık sağlaması açısından kategorik ve numeric değişkenleri sınıflandırma işlemi yapacağı.z"
   ]
  },
  {
   "cell_type": "code",
   "execution_count": 9,
   "id": "dc9f5399",
   "metadata": {
    "execution": {
     "iopub.execute_input": "2024-11-23T12:30:42.344926Z",
     "iopub.status.busy": "2024-11-23T12:30:42.344517Z",
     "iopub.status.idle": "2024-11-23T12:30:42.350762Z",
     "shell.execute_reply": "2024-11-23T12:30:42.349586Z"
    },
    "papermill": {
     "duration": 0.026327,
     "end_time": "2024-11-23T12:30:42.352938",
     "exception": false,
     "start_time": "2024-11-23T12:30:42.326611",
     "status": "completed"
    },
    "tags": []
   },
   "outputs": [],
   "source": [
    "categorical_features = []\n",
    "numerical_features = []\n",
    "\n",
    "for col in df.columns:\n",
    "    if (df[col].dtype == \"object\") or (df[col].dtype == \"categorical\"):\n",
    "        categorical_features.append(col)\n",
    "    else:\n",
    "        numerical_features.append(col)"
   ]
  },
  {
   "cell_type": "markdown",
   "id": "b8840d29",
   "metadata": {
    "papermill": {
     "duration": 0.016489,
     "end_time": "2024-11-23T12:30:42.386641",
     "exception": false,
     "start_time": "2024-11-23T12:30:42.370152",
     "status": "completed"
    },
    "tags": []
   },
   "source": [
    "veri türü object veya categorical olan sütunları categorical_features'a , olmayanları ise numerical_features'a atadık."
   ]
  },
  {
   "cell_type": "code",
   "execution_count": 10,
   "id": "c9273998",
   "metadata": {
    "execution": {
     "iopub.execute_input": "2024-11-23T12:30:42.421926Z",
     "iopub.status.busy": "2024-11-23T12:30:42.421513Z",
     "iopub.status.idle": "2024-11-23T12:30:42.428513Z",
     "shell.execute_reply": "2024-11-23T12:30:42.427306Z"
    },
    "papermill": {
     "duration": 0.027292,
     "end_time": "2024-11-23T12:30:42.430616",
     "exception": false,
     "start_time": "2024-11-23T12:30:42.403324",
     "status": "completed"
    },
    "tags": []
   },
   "outputs": [
    {
     "data": {
      "text/plain": [
       "(['Gender', 'Blood Type', 'Diabetes', 'Smoking'],\n",
       " ['Student ID',\n",
       "  'Age',\n",
       "  'Height',\n",
       "  'Weight',\n",
       "  'BMI',\n",
       "  'Temperature',\n",
       "  'Heart Rate',\n",
       "  'Blood Pressure',\n",
       "  'Cholesterol'])"
      ]
     },
     "execution_count": 10,
     "metadata": {},
     "output_type": "execute_result"
    }
   ],
   "source": [
    "categorical_features , numerical_features"
   ]
  },
  {
   "cell_type": "markdown",
   "id": "f2d31c35",
   "metadata": {
    "papermill": {
     "duration": 0.019939,
     "end_time": "2024-11-23T12:30:42.467401",
     "exception": false,
     "start_time": "2024-11-23T12:30:42.447462",
     "status": "completed"
    },
    "tags": []
   },
   "source": [
    "Burada sınıflandırma işlemimizi yaptık ve \"Gender,Blood Type, Diabethes, Smoking\" değişkenlerinin kategorik. \"Age,Height,Weight,BMI,Temperature,Heart Rate, Blood Pressure,Cholesterol)\" değişkenlerinin nümerik olduğunu gösterdik."
   ]
  },
  {
   "cell_type": "markdown",
   "id": "2a6e372c",
   "metadata": {
    "papermill": {
     "duration": 0.029358,
     "end_time": "2024-11-23T12:30:42.515767",
     "exception": false,
     "start_time": "2024-11-23T12:30:42.486409",
     "status": "completed"
    },
    "tags": []
   },
   "source": [
    "## BETİMSEL İSTATİSTİKLERİNE BAKIYORUZ\r\n"
   ]
  },
  {
   "cell_type": "code",
   "execution_count": 11,
   "id": "d489c689",
   "metadata": {
    "execution": {
     "iopub.execute_input": "2024-11-23T12:30:42.552149Z",
     "iopub.status.busy": "2024-11-23T12:30:42.551163Z",
     "iopub.status.idle": "2024-11-23T12:30:42.725289Z",
     "shell.execute_reply": "2024-11-23T12:30:42.724206Z"
    },
    "papermill": {
     "duration": 0.194903,
     "end_time": "2024-11-23T12:30:42.727663",
     "exception": false,
     "start_time": "2024-11-23T12:30:42.532760",
     "status": "completed"
    },
    "tags": []
   },
   "outputs": [
    {
     "data": {
      "text/html": [
       "<div>\n",
       "<style scoped>\n",
       "    .dataframe tbody tr th:only-of-type {\n",
       "        vertical-align: middle;\n",
       "    }\n",
       "\n",
       "    .dataframe tbody tr th {\n",
       "        vertical-align: top;\n",
       "    }\n",
       "\n",
       "    .dataframe thead th {\n",
       "        text-align: right;\n",
       "    }\n",
       "</style>\n",
       "<table border=\"1\" class=\"dataframe\">\n",
       "  <thead>\n",
       "    <tr style=\"text-align: right;\">\n",
       "      <th></th>\n",
       "      <th>count</th>\n",
       "      <th>mean</th>\n",
       "      <th>std</th>\n",
       "      <th>min</th>\n",
       "      <th>25%</th>\n",
       "      <th>50%</th>\n",
       "      <th>75%</th>\n",
       "      <th>max</th>\n",
       "    </tr>\n",
       "  </thead>\n",
       "  <tbody>\n",
       "    <tr>\n",
       "      <th>Student ID</th>\n",
       "      <td>174649.00</td>\n",
       "      <td>49974.13</td>\n",
       "      <td>28881.05</td>\n",
       "      <td>1.00</td>\n",
       "      <td>24968.00</td>\n",
       "      <td>49938.00</td>\n",
       "      <td>74999.00</td>\n",
       "      <td>100000.00</td>\n",
       "    </tr>\n",
       "    <tr>\n",
       "      <th>Age</th>\n",
       "      <td>174561.00</td>\n",
       "      <td>26.02</td>\n",
       "      <td>4.89</td>\n",
       "      <td>18.00</td>\n",
       "      <td>22.00</td>\n",
       "      <td>26.00</td>\n",
       "      <td>30.00</td>\n",
       "      <td>34.00</td>\n",
       "    </tr>\n",
       "    <tr>\n",
       "      <th>Height</th>\n",
       "      <td>174603.00</td>\n",
       "      <td>174.96</td>\n",
       "      <td>14.45</td>\n",
       "      <td>150.00</td>\n",
       "      <td>162.49</td>\n",
       "      <td>174.91</td>\n",
       "      <td>187.48</td>\n",
       "      <td>200.00</td>\n",
       "    </tr>\n",
       "    <tr>\n",
       "      <th>Weight</th>\n",
       "      <td>174838.00</td>\n",
       "      <td>69.97</td>\n",
       "      <td>17.33</td>\n",
       "      <td>40.00</td>\n",
       "      <td>54.97</td>\n",
       "      <td>69.97</td>\n",
       "      <td>85.00</td>\n",
       "      <td>100.00</td>\n",
       "    </tr>\n",
       "    <tr>\n",
       "      <th>BMI</th>\n",
       "      <td>174602.00</td>\n",
       "      <td>23.34</td>\n",
       "      <td>7.03</td>\n",
       "      <td>10.07</td>\n",
       "      <td>17.86</td>\n",
       "      <td>22.67</td>\n",
       "      <td>28.00</td>\n",
       "      <td>44.36</td>\n",
       "    </tr>\n",
       "    <tr>\n",
       "      <th>Temperature</th>\n",
       "      <td>174625.00</td>\n",
       "      <td>98.60</td>\n",
       "      <td>0.50</td>\n",
       "      <td>96.40</td>\n",
       "      <td>98.26</td>\n",
       "      <td>98.60</td>\n",
       "      <td>98.94</td>\n",
       "      <td>100.82</td>\n",
       "    </tr>\n",
       "    <tr>\n",
       "      <th>Heart Rate</th>\n",
       "      <td>174785.00</td>\n",
       "      <td>79.50</td>\n",
       "      <td>11.54</td>\n",
       "      <td>60.00</td>\n",
       "      <td>70.00</td>\n",
       "      <td>79.00</td>\n",
       "      <td>90.00</td>\n",
       "      <td>99.00</td>\n",
       "    </tr>\n",
       "    <tr>\n",
       "      <th>Blood Pressure</th>\n",
       "      <td>174745.00</td>\n",
       "      <td>114.56</td>\n",
       "      <td>14.40</td>\n",
       "      <td>90.00</td>\n",
       "      <td>102.00</td>\n",
       "      <td>115.00</td>\n",
       "      <td>127.00</td>\n",
       "      <td>139.00</td>\n",
       "    </tr>\n",
       "    <tr>\n",
       "      <th>Cholesterol</th>\n",
       "      <td>174504.00</td>\n",
       "      <td>184.48</td>\n",
       "      <td>37.56</td>\n",
       "      <td>120.00</td>\n",
       "      <td>152.00</td>\n",
       "      <td>184.00</td>\n",
       "      <td>217.00</td>\n",
       "      <td>249.00</td>\n",
       "    </tr>\n",
       "  </tbody>\n",
       "</table>\n",
       "</div>"
      ],
      "text/plain": [
       "                   count     mean      std    min      25%      50%      75%  \\\n",
       "Student ID     174649.00 49974.13 28881.05   1.00 24968.00 49938.00 74999.00   \n",
       "Age            174561.00    26.02     4.89  18.00    22.00    26.00    30.00   \n",
       "Height         174603.00   174.96    14.45 150.00   162.49   174.91   187.48   \n",
       "Weight         174838.00    69.97    17.33  40.00    54.97    69.97    85.00   \n",
       "BMI            174602.00    23.34     7.03  10.07    17.86    22.67    28.00   \n",
       "Temperature    174625.00    98.60     0.50  96.40    98.26    98.60    98.94   \n",
       "Heart Rate     174785.00    79.50    11.54  60.00    70.00    79.00    90.00   \n",
       "Blood Pressure 174745.00   114.56    14.40  90.00   102.00   115.00   127.00   \n",
       "Cholesterol    174504.00   184.48    37.56 120.00   152.00   184.00   217.00   \n",
       "\n",
       "                     max  \n",
       "Student ID     100000.00  \n",
       "Age                34.00  \n",
       "Height            200.00  \n",
       "Weight            100.00  \n",
       "BMI                44.36  \n",
       "Temperature       100.82  \n",
       "Heart Rate         99.00  \n",
       "Blood Pressure    139.00  \n",
       "Cholesterol       249.00  "
      ]
     },
     "execution_count": 11,
     "metadata": {},
     "output_type": "execute_result"
    }
   ],
   "source": [
    "pd.set_option('display.float_format','{:.2f}'.format)\n",
    "df.describe().T"
   ]
  },
  {
   "cell_type": "markdown",
   "id": "887cfe1c",
   "metadata": {
    "papermill": {
     "duration": 0.017802,
     "end_time": "2024-11-23T12:30:42.763245",
     "exception": false,
     "start_time": "2024-11-23T12:30:42.745443",
     "status": "completed"
    },
    "tags": []
   },
   "source": [
    "Bu fonksiyon default olarak yalnızca numerik değişkenlere bakar. Burada veri setimizin betimsel istatistiklerine bakıyoruz ortalama,standart sapma,minimum,maksimum ve çeyreklikleri görebiliyoruz. describe kodumun sonuna \" .T \" komutu da ekleyerek çıktımı yan bir şekilde gösterdim(transpozunu aldım). Gördüğümüz bilgilerden çıkarım yapmak istersek ; Age kategorisinde maksimum yaş 34 ve minimum yaş 18 dir. Bu yaşların ortalaması 26.02 ye denk gelmektedir. Yaşların Standart sapması 4.89 dur şeklinde açıklama yapabiliriz."
   ]
  },
  {
   "cell_type": "markdown",
   "id": "cdb309d0",
   "metadata": {
    "papermill": {
     "duration": 0.018986,
     "end_time": "2024-11-23T12:30:42.800116",
     "exception": false,
     "start_time": "2024-11-23T12:30:42.781130",
     "status": "completed"
    },
    "tags": []
   },
   "source": [
    "## EKSİK VERİLERİ İNCELEYELİM"
   ]
  },
  {
   "cell_type": "code",
   "execution_count": 12,
   "id": "a9d988ef",
   "metadata": {
    "execution": {
     "iopub.execute_input": "2024-11-23T12:30:42.837675Z",
     "iopub.status.busy": "2024-11-23T12:30:42.836765Z",
     "iopub.status.idle": "2024-11-23T12:30:42.895149Z",
     "shell.execute_reply": "2024-11-23T12:30:42.893960Z"
    },
    "papermill": {
     "duration": 0.07938,
     "end_time": "2024-11-23T12:30:42.897392",
     "exception": false,
     "start_time": "2024-11-23T12:30:42.818012",
     "status": "completed"
    },
    "tags": []
   },
   "outputs": [
    {
     "data": {
      "text/plain": [
       "Student ID        25351\n",
       "Age               25439\n",
       "Gender            25223\n",
       "Height            25397\n",
       "Weight            25162\n",
       "Blood Type        25289\n",
       "BMI               25398\n",
       "Temperature       25375\n",
       "Heart Rate        25215\n",
       "Blood Pressure    25255\n",
       "Cholesterol       25496\n",
       "Diabetes          25270\n",
       "Smoking           25285\n",
       "dtype: int64"
      ]
     },
     "execution_count": 12,
     "metadata": {},
     "output_type": "execute_result"
    }
   ],
   "source": [
    "df.isnull().sum()"
   ]
  },
  {
   "cell_type": "markdown",
   "id": "6239f45d",
   "metadata": {
    "papermill": {
     "duration": 0.017226,
     "end_time": "2024-11-23T12:30:42.939846",
     "exception": false,
     "start_time": "2024-11-23T12:30:42.922620",
     "status": "completed"
    },
    "tags": []
   },
   "source": [
    "Her bir sütunumda kaç adet eksik değer olduğunu görüyoruz. Örnek olarak Gender sütunumda 25223 adet eksik gözlemim var."
   ]
  },
  {
   "cell_type": "code",
   "execution_count": 13,
   "id": "73d5b32a",
   "metadata": {
    "execution": {
     "iopub.execute_input": "2024-11-23T12:30:42.982938Z",
     "iopub.status.busy": "2024-11-23T12:30:42.982011Z",
     "iopub.status.idle": "2024-11-23T12:30:43.030236Z",
     "shell.execute_reply": "2024-11-23T12:30:43.029126Z"
    },
    "papermill": {
     "duration": 0.07242,
     "end_time": "2024-11-23T12:30:43.032635",
     "exception": false,
     "start_time": "2024-11-23T12:30:42.960215",
     "status": "completed"
    },
    "tags": []
   },
   "outputs": [
    {
     "data": {
      "text/plain": [
       "329155"
      ]
     },
     "execution_count": 13,
     "metadata": {},
     "output_type": "execute_result"
    }
   ],
   "source": [
    "df.isnull().sum().sum()"
   ]
  },
  {
   "cell_type": "markdown",
   "id": "a5973505",
   "metadata": {
    "papermill": {
     "duration": 0.017134,
     "end_time": "2024-11-23T12:30:43.067097",
     "exception": false,
     "start_time": "2024-11-23T12:30:43.049963",
     "status": "completed"
    },
    "tags": []
   },
   "source": [
    "Burada toplam kaç adet eksik verimizin olduğunu görüyoruz. 329155 adet."
   ]
  },
  {
   "cell_type": "code",
   "execution_count": 14,
   "id": "150d64d8",
   "metadata": {
    "execution": {
     "iopub.execute_input": "2024-11-23T12:30:43.103886Z",
     "iopub.status.busy": "2024-11-23T12:30:43.103364Z",
     "iopub.status.idle": "2024-11-23T12:30:43.160413Z",
     "shell.execute_reply": "2024-11-23T12:30:43.159215Z"
    },
    "papermill": {
     "duration": 0.07865,
     "end_time": "2024-11-23T12:30:43.163167",
     "exception": false,
     "start_time": "2024-11-23T12:30:43.084517",
     "status": "completed"
    },
    "tags": []
   },
   "outputs": [
    {
     "data": {
      "text/plain": [
       "2270845"
      ]
     },
     "execution_count": 14,
     "metadata": {},
     "output_type": "execute_result"
    }
   ],
   "source": [
    "df.notnull().sum().sum()"
   ]
  },
  {
   "cell_type": "markdown",
   "id": "f087435e",
   "metadata": {
    "papermill": {
     "duration": 0.01736,
     "end_time": "2024-11-23T12:30:43.198244",
     "exception": false,
     "start_time": "2024-11-23T12:30:43.180884",
     "status": "completed"
    },
    "tags": []
   },
   "source": [
    "Veri setimizde eksik olmayan toplam veri adedini görüyoruz. 2.270.845"
   ]
  },
  {
   "cell_type": "code",
   "execution_count": 15,
   "id": "9af6166a",
   "metadata": {
    "execution": {
     "iopub.execute_input": "2024-11-23T12:30:43.235570Z",
     "iopub.status.busy": "2024-11-23T12:30:43.235059Z",
     "iopub.status.idle": "2024-11-23T12:30:43.299055Z",
     "shell.execute_reply": "2024-11-23T12:30:43.297929Z"
    },
    "papermill": {
     "duration": 0.085346,
     "end_time": "2024-11-23T12:30:43.301204",
     "exception": false,
     "start_time": "2024-11-23T12:30:43.215858",
     "status": "completed"
    },
    "tags": []
   },
   "outputs": [
    {
     "data": {
      "text/html": [
       "<div>\n",
       "<style scoped>\n",
       "    .dataframe tbody tr th:only-of-type {\n",
       "        vertical-align: middle;\n",
       "    }\n",
       "\n",
       "    .dataframe tbody tr th {\n",
       "        vertical-align: top;\n",
       "    }\n",
       "\n",
       "    .dataframe thead th {\n",
       "        text-align: right;\n",
       "    }\n",
       "</style>\n",
       "<table border=\"1\" class=\"dataframe\">\n",
       "  <thead>\n",
       "    <tr style=\"text-align: right;\">\n",
       "      <th></th>\n",
       "      <th>Student ID</th>\n",
       "      <th>Age</th>\n",
       "      <th>Gender</th>\n",
       "      <th>Height</th>\n",
       "      <th>Weight</th>\n",
       "      <th>Blood Type</th>\n",
       "      <th>BMI</th>\n",
       "      <th>Temperature</th>\n",
       "      <th>Heart Rate</th>\n",
       "      <th>Blood Pressure</th>\n",
       "      <th>Cholesterol</th>\n",
       "      <th>Diabetes</th>\n",
       "      <th>Smoking</th>\n",
       "    </tr>\n",
       "  </thead>\n",
       "  <tbody>\n",
       "    <tr>\n",
       "      <th>2</th>\n",
       "      <td>3.00</td>\n",
       "      <td>32.00</td>\n",
       "      <td>Female</td>\n",
       "      <td>182.54</td>\n",
       "      <td>55.74</td>\n",
       "      <td>A</td>\n",
       "      <td>16.73</td>\n",
       "      <td>98.26</td>\n",
       "      <td>76.00</td>\n",
       "      <td>130.00</td>\n",
       "      <td>216.00</td>\n",
       "      <td>Yes</td>\n",
       "      <td>No</td>\n",
       "    </tr>\n",
       "    <tr>\n",
       "      <th>7</th>\n",
       "      <td>8.00</td>\n",
       "      <td>28.00</td>\n",
       "      <td>Male</td>\n",
       "      <td>186.49</td>\n",
       "      <td>52.39</td>\n",
       "      <td>AB</td>\n",
       "      <td>15.06</td>\n",
       "      <td>98.23</td>\n",
       "      <td>85.00</td>\n",
       "      <td>123.00</td>\n",
       "      <td>128.00</td>\n",
       "      <td>No</td>\n",
       "      <td>No</td>\n",
       "    </tr>\n",
       "    <tr>\n",
       "      <th>11</th>\n",
       "      <td>12.00</td>\n",
       "      <td>34.00</td>\n",
       "      <td>Female</td>\n",
       "      <td>182.42</td>\n",
       "      <td>76.37</td>\n",
       "      <td>AB</td>\n",
       "      <td>22.95</td>\n",
       "      <td>98.12</td>\n",
       "      <td>86.00</td>\n",
       "      <td>97.00</td>\n",
       "      <td>247.00</td>\n",
       "      <td>No</td>\n",
       "      <td>No</td>\n",
       "    </tr>\n",
       "    <tr>\n",
       "      <th>19</th>\n",
       "      <td>20.00</td>\n",
       "      <td>31.00</td>\n",
       "      <td>Male</td>\n",
       "      <td>166.49</td>\n",
       "      <td>49.96</td>\n",
       "      <td>B</td>\n",
       "      <td>18.02</td>\n",
       "      <td>98.81</td>\n",
       "      <td>82.00</td>\n",
       "      <td>96.00</td>\n",
       "      <td>223.00</td>\n",
       "      <td>No</td>\n",
       "      <td>No</td>\n",
       "    </tr>\n",
       "    <tr>\n",
       "      <th>29</th>\n",
       "      <td>30.00</td>\n",
       "      <td>34.00</td>\n",
       "      <td>Male</td>\n",
       "      <td>192.50</td>\n",
       "      <td>86.91</td>\n",
       "      <td>AB</td>\n",
       "      <td>23.45</td>\n",
       "      <td>99.47</td>\n",
       "      <td>68.00</td>\n",
       "      <td>124.00</td>\n",
       "      <td>165.00</td>\n",
       "      <td>No</td>\n",
       "      <td>No</td>\n",
       "    </tr>\n",
       "  </tbody>\n",
       "</table>\n",
       "</div>"
      ],
      "text/plain": [
       "    Student ID   Age  Gender  Height  Weight Blood Type   BMI  Temperature  \\\n",
       "2         3.00 32.00  Female  182.54   55.74          A 16.73        98.26   \n",
       "7         8.00 28.00    Male  186.49   52.39         AB 15.06        98.23   \n",
       "11       12.00 34.00  Female  182.42   76.37         AB 22.95        98.12   \n",
       "19       20.00 31.00    Male  166.49   49.96          B 18.02        98.81   \n",
       "29       30.00 34.00    Male  192.50   86.91         AB 23.45        99.47   \n",
       "\n",
       "    Heart Rate  Blood Pressure  Cholesterol Diabetes Smoking  \n",
       "2        76.00          130.00       216.00      Yes      No  \n",
       "7        85.00          123.00       128.00       No      No  \n",
       "11       86.00           97.00       247.00       No      No  \n",
       "19       82.00           96.00       223.00       No      No  \n",
       "29       68.00          124.00       165.00       No      No  "
      ]
     },
     "execution_count": 15,
     "metadata": {},
     "output_type": "execute_result"
    }
   ],
   "source": [
    "df[df.notnull().all(axis = 1)][:5]"
   ]
  },
  {
   "cell_type": "markdown",
   "id": "c095d0bf",
   "metadata": {
    "papermill": {
     "duration": 0.017182,
     "end_time": "2024-11-23T12:30:43.336191",
     "exception": false,
     "start_time": "2024-11-23T12:30:43.319009",
     "status": "completed"
    },
    "tags": []
   },
   "source": [
    "İçerisinde hiçbir eksik veri bulunmayan ilk 5 veriyi getirdik."
   ]
  },
  {
   "cell_type": "code",
   "execution_count": 16,
   "id": "24b252fb",
   "metadata": {
    "execution": {
     "iopub.execute_input": "2024-11-23T12:30:43.372514Z",
     "iopub.status.busy": "2024-11-23T12:30:43.372173Z",
     "iopub.status.idle": "2024-11-23T12:30:44.807749Z",
     "shell.execute_reply": "2024-11-23T12:30:44.806688Z"
    },
    "papermill": {
     "duration": 1.456381,
     "end_time": "2024-11-23T12:30:44.810059",
     "exception": false,
     "start_time": "2024-11-23T12:30:43.353678",
     "status": "completed"
    },
    "tags": []
   },
   "outputs": [
    {
     "data": {
      "image/png": "[encoded data removed]",
      "text/plain": [
       "<Figure size 1200x600 with 3 Axes>"
      ]
     },
     "metadata": {},
     "output_type": "display_data"
    }
   ],
   "source": [
    "msno.bar(df=df,\n",
    "        figsize=(12,6),\n",
    "        fontsize=(12));"
   ]
  },
  {
   "cell_type": "markdown",
   "id": "177d5d21",
   "metadata": {
    "papermill": {
     "duration": 0.018875,
     "end_time": "2024-11-23T12:30:44.848020",
     "exception": false,
     "start_time": "2024-11-23T12:30:44.829145",
     "status": "completed"
    },
    "tags": []
   },
   "source": [
    "Her bir sütundaki veri kaydımı grafik şeklinde gösterdim ancak birbirlerine yakın değerler içerdikleri için net bir görünüm elde edemedik. Burada sütunlarda kaçar adet veri olduğunu yine görebiliyoruz.\r\n",
    "\r\n"
   ]
  },
  {
   "cell_type": "code",
   "execution_count": 17,
   "id": "f1f76d7b",
   "metadata": {
    "execution": {
     "iopub.execute_input": "2024-11-23T12:30:44.888358Z",
     "iopub.status.busy": "2024-11-23T12:30:44.887381Z",
     "iopub.status.idle": "2024-11-23T12:30:46.052179Z",
     "shell.execute_reply": "2024-11-23T12:30:46.050908Z"
    },
    "papermill": {
     "duration": 1.187972,
     "end_time": "2024-11-23T12:30:46.054473",
     "exception": false,
     "start_time": "2024-11-23T12:30:44.866501",
     "status": "completed"
    },
    "tags": []
   },
   "outputs": [
    {
     "data": {
      "image/png": "[encoded data removed]",
      "text/plain": [
       "<Figure size 1200x600 with 2 Axes>"
      ]
     },
     "metadata": {},
     "output_type": "display_data"
    }
   ],
   "source": [
    "msno.matrix(df=df,\n",
    "        figsize=(12,6),\n",
    "        fontsize=(12));"
   ]
  },
  {
   "cell_type": "markdown",
   "id": "ded46d96",
   "metadata": {
    "papermill": {
     "duration": 0.019632,
     "end_time": "2024-11-23T12:30:46.094524",
     "exception": false,
     "start_time": "2024-11-23T12:30:46.074892",
     "status": "completed"
    },
    "tags": []
   },
   "source": [
    "Değişkenlerimin içerisindeki kayıp verilerin birbirleriyle ilişkilerini gözlemlemek için bu kod satırını ve grafiği kullandım. Burada beyaz çizgilerin birbirine denk düşenleri arasında bir ilişki olabilir diyebiliriz. Yine de genel anlamda oldukça homojen bir veri setimiz bulunmakta. "
   ]
  },
  {
   "cell_type": "code",
   "execution_count": 18,
   "id": "6d17fc28",
   "metadata": {
    "execution": {
     "iopub.execute_input": "2024-11-23T12:30:46.135522Z",
     "iopub.status.busy": "2024-11-23T12:30:46.134606Z",
     "iopub.status.idle": "2024-11-23T12:30:46.869061Z",
     "shell.execute_reply": "2024-11-23T12:30:46.867902Z"
    },
    "papermill": {
     "duration": 0.757372,
     "end_time": "2024-11-23T12:30:46.871408",
     "exception": false,
     "start_time": "2024-11-23T12:30:46.114036",
     "status": "completed"
    },
    "tags": []
   },
   "outputs": [
    {
     "data": {
      "image/png": "[encoded data removed]",
      "text/plain": [
       "<Figure size 1200x600 with 2 Axes>"
      ]
     },
     "metadata": {},
     "output_type": "display_data"
    }
   ],
   "source": [
    "msno.heatmap(df=df,\n",
    "            figsize=(12,6),\n",
    "            fontsize=(12));"
   ]
  },
  {
   "cell_type": "markdown",
   "id": "875a9aed",
   "metadata": {
    "papermill": {
     "duration": 0.020283,
     "end_time": "2024-11-23T12:30:46.912180",
     "exception": false,
     "start_time": "2024-11-23T12:30:46.891897",
     "status": "completed"
    },
    "tags": []
   },
   "source": [
    "Burada korelasyon kullanarak eksik verilerimizin arasındaki ilişkiyi görüntüledik ancak bir ilişki olmadığını görebiiliyoruz. Eğer renk maviye yakşasyası aralarında bir korelasyon var diyebilirdik. \r\n",
    "\r\n"
   ]
  },
  {
   "cell_type": "markdown",
   "id": "4c773eae",
   "metadata": {
    "papermill": {
     "duration": 0.020304,
     "end_time": "2024-11-23T12:30:46.953155",
     "exception": false,
     "start_time": "2024-11-23T12:30:46.932851",
     "status": "completed"
    },
    "tags": []
   },
   "source": [
    "## EKSİK VERİLERLE YAPACAĞIMIZ İŞLEMLER\n",
    "\r\n",
    "Eksik verilerimin veri setimin  %kaçını oluşturduğuyla ilgili bilgi edinip sonraki aşamalarda yapacağım işlemlere buna göre karar vereceğim"
   ]
  },
  {
   "cell_type": "code",
   "execution_count": 19,
   "id": "5aa32609",
   "metadata": {
    "execution": {
     "iopub.execute_input": "2024-11-23T12:30:46.996906Z",
     "iopub.status.busy": "2024-11-23T12:30:46.996036Z",
     "iopub.status.idle": "2024-11-23T12:30:47.044904Z",
     "shell.execute_reply": "2024-11-23T12:30:47.043626Z"
    },
    "papermill": {
     "duration": 0.073217,
     "end_time": "2024-11-23T12:30:47.047166",
     "exception": false,
     "start_time": "2024-11-23T12:30:46.973949",
     "status": "completed"
    },
    "tags": []
   },
   "outputs": [
    {
     "data": {
      "text/plain": [
       "Student ID       12.68\n",
       "Age              12.72\n",
       "Gender           12.61\n",
       "Height           12.70\n",
       "Weight           12.58\n",
       "Blood Type       12.64\n",
       "BMI              12.70\n",
       "Temperature      12.69\n",
       "Heart Rate       12.61\n",
       "Blood Pressure   12.63\n",
       "Cholesterol      12.75\n",
       "Diabetes         12.63\n",
       "Smoking          12.64\n",
       "dtype: float64"
      ]
     },
     "execution_count": 19,
     "metadata": {},
     "output_type": "execute_result"
    }
   ],
   "source": [
    "missing_percantage = (df.isnull().sum()/len(df)) * 100\n",
    "missing_percantage"
   ]
  },
  {
   "cell_type": "markdown",
   "id": "de72fd23",
   "metadata": {
    "papermill": {
     "duration": 0.020785,
     "end_time": "2024-11-23T12:30:47.088974",
     "exception": false,
     "start_time": "2024-11-23T12:30:47.068189",
     "status": "completed"
    },
    "tags": []
   },
   "source": [
    "Her bir değişkenimin içindeki kayıp veriler o değişkenin % kaçını oluşturduğunu burada görebiliyoruz. Örnek olarak Age sütunundaki kayıp veriler o sütunun %12.72 sini oluşturuyor diyebiliyoruz.\r\n",
    "\r\n"
   ]
  },
  {
   "cell_type": "code",
   "execution_count": 20,
   "id": "7886d43f",
   "metadata": {
    "execution": {
     "iopub.execute_input": "2024-11-23T12:30:47.133425Z",
     "iopub.status.busy": "2024-11-23T12:30:47.133069Z",
     "iopub.status.idle": "2024-11-23T12:30:47.180896Z",
     "shell.execute_reply": "2024-11-23T12:30:47.179562Z"
    },
    "papermill": {
     "duration": 0.07231,
     "end_time": "2024-11-23T12:30:47.183329",
     "exception": false,
     "start_time": "2024-11-23T12:30:47.111019",
     "status": "completed"
    },
    "tags": []
   },
   "outputs": [
    {
     "data": {
      "text/plain": [
       "12.659807692307693"
      ]
     },
     "execution_count": 20,
     "metadata": {},
     "output_type": "execute_result"
    }
   ],
   "source": [
    "total_missing_percantage= (df.isnull().sum().sum()/(df.size)) * 100\n",
    "total_missing_percantage"
   ]
  },
  {
   "cell_type": "markdown",
   "id": "9cfab145",
   "metadata": {
    "papermill": {
     "duration": 0.020511,
     "end_time": "2024-11-23T12:30:47.225019",
     "exception": false,
     "start_time": "2024-11-23T12:30:47.204508",
     "status": "completed"
    },
    "tags": []
   },
   "source": [
    "Eksik veriler mevcut tüm verimin % 12.66 ' sını oluşturuyor.\n",
    "\n",
    "Burada eksik verileri doldurmak benim için daha mantıklı bir seçenek fakat ben silme yöntemini kullanarak devam etmek istiyorum.\n",
    "\r\n"
   ]
  },
  {
   "cell_type": "code",
   "execution_count": 21,
   "id": "42241e9c",
   "metadata": {
    "execution": {
     "iopub.execute_input": "2024-11-23T12:30:47.321125Z",
     "iopub.status.busy": "2024-11-23T12:30:47.320432Z",
     "iopub.status.idle": "2024-11-23T12:30:47.378675Z",
     "shell.execute_reply": "2024-11-23T12:30:47.377730Z"
    },
    "papermill": {
     "duration": 0.134993,
     "end_time": "2024-11-23T12:30:47.381018",
     "exception": false,
     "start_time": "2024-11-23T12:30:47.246025",
     "status": "completed"
    },
    "tags": []
   },
   "outputs": [
    {
     "data": {
      "text/html": [
       "<div>\n",
       "<style scoped>\n",
       "    .dataframe tbody tr th:only-of-type {\n",
       "        vertical-align: middle;\n",
       "    }\n",
       "\n",
       "    .dataframe tbody tr th {\n",
       "        vertical-align: top;\n",
       "    }\n",
       "\n",
       "    .dataframe thead th {\n",
       "        text-align: right;\n",
       "    }\n",
       "</style>\n",
       "<table border=\"1\" class=\"dataframe\">\n",
       "  <thead>\n",
       "    <tr style=\"text-align: right;\">\n",
       "      <th></th>\n",
       "      <th>Student ID</th>\n",
       "      <th>Age</th>\n",
       "      <th>Gender</th>\n",
       "      <th>Height</th>\n",
       "      <th>Weight</th>\n",
       "      <th>Blood Type</th>\n",
       "      <th>BMI</th>\n",
       "      <th>Temperature</th>\n",
       "      <th>Heart Rate</th>\n",
       "      <th>Blood Pressure</th>\n",
       "      <th>Cholesterol</th>\n",
       "      <th>Diabetes</th>\n",
       "      <th>Smoking</th>\n",
       "    </tr>\n",
       "  </thead>\n",
       "  <tbody>\n",
       "    <tr>\n",
       "      <th>2</th>\n",
       "      <td>3.00</td>\n",
       "      <td>32.00</td>\n",
       "      <td>Female</td>\n",
       "      <td>182.54</td>\n",
       "      <td>55.74</td>\n",
       "      <td>A</td>\n",
       "      <td>16.73</td>\n",
       "      <td>98.26</td>\n",
       "      <td>76.00</td>\n",
       "      <td>130.00</td>\n",
       "      <td>216.00</td>\n",
       "      <td>Yes</td>\n",
       "      <td>No</td>\n",
       "    </tr>\n",
       "    <tr>\n",
       "      <th>7</th>\n",
       "      <td>8.00</td>\n",
       "      <td>28.00</td>\n",
       "      <td>Male</td>\n",
       "      <td>186.49</td>\n",
       "      <td>52.39</td>\n",
       "      <td>AB</td>\n",
       "      <td>15.06</td>\n",
       "      <td>98.23</td>\n",
       "      <td>85.00</td>\n",
       "      <td>123.00</td>\n",
       "      <td>128.00</td>\n",
       "      <td>No</td>\n",
       "      <td>No</td>\n",
       "    </tr>\n",
       "    <tr>\n",
       "      <th>11</th>\n",
       "      <td>12.00</td>\n",
       "      <td>34.00</td>\n",
       "      <td>Female</td>\n",
       "      <td>182.42</td>\n",
       "      <td>76.37</td>\n",
       "      <td>AB</td>\n",
       "      <td>22.95</td>\n",
       "      <td>98.12</td>\n",
       "      <td>86.00</td>\n",
       "      <td>97.00</td>\n",
       "      <td>247.00</td>\n",
       "      <td>No</td>\n",
       "      <td>No</td>\n",
       "    </tr>\n",
       "    <tr>\n",
       "      <th>19</th>\n",
       "      <td>20.00</td>\n",
       "      <td>31.00</td>\n",
       "      <td>Male</td>\n",
       "      <td>166.49</td>\n",
       "      <td>49.96</td>\n",
       "      <td>B</td>\n",
       "      <td>18.02</td>\n",
       "      <td>98.81</td>\n",
       "      <td>82.00</td>\n",
       "      <td>96.00</td>\n",
       "      <td>223.00</td>\n",
       "      <td>No</td>\n",
       "      <td>No</td>\n",
       "    </tr>\n",
       "    <tr>\n",
       "      <th>29</th>\n",
       "      <td>30.00</td>\n",
       "      <td>34.00</td>\n",
       "      <td>Male</td>\n",
       "      <td>192.50</td>\n",
       "      <td>86.91</td>\n",
       "      <td>AB</td>\n",
       "      <td>23.45</td>\n",
       "      <td>99.47</td>\n",
       "      <td>68.00</td>\n",
       "      <td>124.00</td>\n",
       "      <td>165.00</td>\n",
       "      <td>No</td>\n",
       "      <td>No</td>\n",
       "    </tr>\n",
       "    <tr>\n",
       "      <th>...</th>\n",
       "      <td>...</td>\n",
       "      <td>...</td>\n",
       "      <td>...</td>\n",
       "      <td>...</td>\n",
       "      <td>...</td>\n",
       "      <td>...</td>\n",
       "      <td>...</td>\n",
       "      <td>...</td>\n",
       "      <td>...</td>\n",
       "      <td>...</td>\n",
       "      <td>...</td>\n",
       "      <td>...</td>\n",
       "      <td>...</td>\n",
       "    </tr>\n",
       "    <tr>\n",
       "      <th>199965</th>\n",
       "      <td>99966.00</td>\n",
       "      <td>22.00</td>\n",
       "      <td>Female</td>\n",
       "      <td>166.56</td>\n",
       "      <td>48.68</td>\n",
       "      <td>AB</td>\n",
       "      <td>17.55</td>\n",
       "      <td>98.78</td>\n",
       "      <td>95.00</td>\n",
       "      <td>109.00</td>\n",
       "      <td>152.00</td>\n",
       "      <td>Yes</td>\n",
       "      <td>No</td>\n",
       "    </tr>\n",
       "    <tr>\n",
       "      <th>199973</th>\n",
       "      <td>99974.00</td>\n",
       "      <td>25.00</td>\n",
       "      <td>Female</td>\n",
       "      <td>156.30</td>\n",
       "      <td>90.69</td>\n",
       "      <td>B</td>\n",
       "      <td>37.12</td>\n",
       "      <td>98.66</td>\n",
       "      <td>70.00</td>\n",
       "      <td>132.00</td>\n",
       "      <td>164.00</td>\n",
       "      <td>Yes</td>\n",
       "      <td>No</td>\n",
       "    </tr>\n",
       "    <tr>\n",
       "      <th>199985</th>\n",
       "      <td>99986.00</td>\n",
       "      <td>23.00</td>\n",
       "      <td>Female</td>\n",
       "      <td>162.88</td>\n",
       "      <td>82.49</td>\n",
       "      <td>B</td>\n",
       "      <td>31.09</td>\n",
       "      <td>98.85</td>\n",
       "      <td>65.00</td>\n",
       "      <td>94.00</td>\n",
       "      <td>188.00</td>\n",
       "      <td>No</td>\n",
       "      <td>Yes</td>\n",
       "    </tr>\n",
       "    <tr>\n",
       "      <th>199986</th>\n",
       "      <td>99987.00</td>\n",
       "      <td>34.00</td>\n",
       "      <td>Male</td>\n",
       "      <td>165.65</td>\n",
       "      <td>93.10</td>\n",
       "      <td>A</td>\n",
       "      <td>33.93</td>\n",
       "      <td>97.86</td>\n",
       "      <td>62.00</td>\n",
       "      <td>100.00</td>\n",
       "      <td>205.00</td>\n",
       "      <td>No</td>\n",
       "      <td>No</td>\n",
       "    </tr>\n",
       "    <tr>\n",
       "      <th>199998</th>\n",
       "      <td>99999.00</td>\n",
       "      <td>30.00</td>\n",
       "      <td>Female</td>\n",
       "      <td>156.45</td>\n",
       "      <td>50.14</td>\n",
       "      <td>A</td>\n",
       "      <td>20.49</td>\n",
       "      <td>98.99</td>\n",
       "      <td>61.00</td>\n",
       "      <td>106.00</td>\n",
       "      <td>225.00</td>\n",
       "      <td>No</td>\n",
       "      <td>No</td>\n",
       "    </tr>\n",
       "  </tbody>\n",
       "</table>\n",
       "<p>34365 rows × 13 columns</p>\n",
       "</div>"
      ],
      "text/plain": [
       "        Student ID   Age  Gender  Height  Weight Blood Type   BMI  \\\n",
       "2             3.00 32.00  Female  182.54   55.74          A 16.73   \n",
       "7             8.00 28.00    Male  186.49   52.39         AB 15.06   \n",
       "11           12.00 34.00  Female  182.42   76.37         AB 22.95   \n",
       "19           20.00 31.00    Male  166.49   49.96          B 18.02   \n",
       "29           30.00 34.00    Male  192.50   86.91         AB 23.45   \n",
       "...            ...   ...     ...     ...     ...        ...   ...   \n",
       "199965    99966.00 22.00  Female  166.56   48.68         AB 17.55   \n",
       "199973    99974.00 25.00  Female  156.30   90.69          B 37.12   \n",
       "199985    99986.00 23.00  Female  162.88   82.49          B 31.09   \n",
       "199986    99987.00 34.00    Male  165.65   93.10          A 33.93   \n",
       "199998    99999.00 30.00  Female  156.45   50.14          A 20.49   \n",
       "\n",
       "        Temperature  Heart Rate  Blood Pressure  Cholesterol Diabetes Smoking  \n",
       "2             98.26       76.00          130.00       216.00      Yes      No  \n",
       "7             98.23       85.00          123.00       128.00       No      No  \n",
       "11            98.12       86.00           97.00       247.00       No      No  \n",
       "19            98.81       82.00           96.00       223.00       No      No  \n",
       "29            99.47       68.00          124.00       165.00       No      No  \n",
       "...             ...         ...             ...          ...      ...     ...  \n",
       "199965        98.78       95.00          109.00       152.00      Yes      No  \n",
       "199973        98.66       70.00          132.00       164.00      Yes      No  \n",
       "199985        98.85       65.00           94.00       188.00       No     Yes  \n",
       "199986        97.86       62.00          100.00       205.00       No      No  \n",
       "199998        98.99       61.00          106.00       225.00       No      No  \n",
       "\n",
       "[34365 rows x 13 columns]"
      ]
     },
     "execution_count": 21,
     "metadata": {},
     "output_type": "execute_result"
    }
   ],
   "source": [
    "df_clear = df.dropna(inplace=False)\n",
    "df_clear"
   ]
  },
  {
   "cell_type": "markdown",
   "id": "c1a191e4",
   "metadata": {
    "papermill": {
     "duration": 0.021451,
     "end_time": "2024-11-23T12:30:47.424176",
     "exception": false,
     "start_time": "2024-11-23T12:30:47.402725",
     "status": "completed"
    },
    "tags": []
   },
   "source": [
    "\"dropna\" kodunu kullanarak veri setimdeki kayıp verilerimi sildim ve yeni oluşan veri setini \"df_clear\" eşitliğine atadım. Artık veri setimde işlem yaparken çağıracağım güncel veri setim \"df_clear\" oldu."
   ]
  },
  {
   "cell_type": "code",
   "execution_count": 22,
   "id": "5ab8d26e",
   "metadata": {
    "execution": {
     "iopub.execute_input": "2024-11-23T12:30:47.469160Z",
     "iopub.status.busy": "2024-11-23T12:30:47.468809Z",
     "iopub.status.idle": "2024-11-23T12:30:47.484377Z",
     "shell.execute_reply": "2024-11-23T12:30:47.483356Z"
    },
    "papermill": {
     "duration": 0.040405,
     "end_time": "2024-11-23T12:30:47.486419",
     "exception": false,
     "start_time": "2024-11-23T12:30:47.446014",
     "status": "completed"
    },
    "tags": []
   },
   "outputs": [
    {
     "data": {
      "text/plain": [
       "Student ID        0\n",
       "Age               0\n",
       "Gender            0\n",
       "Height            0\n",
       "Weight            0\n",
       "Blood Type        0\n",
       "BMI               0\n",
       "Temperature       0\n",
       "Heart Rate        0\n",
       "Blood Pressure    0\n",
       "Cholesterol       0\n",
       "Diabetes          0\n",
       "Smoking           0\n",
       "dtype: int64"
      ]
     },
     "execution_count": 22,
     "metadata": {},
     "output_type": "execute_result"
    }
   ],
   "source": [
    "df_clear.isnull().sum()"
   ]
  },
  {
   "cell_type": "markdown",
   "id": "c218d4ca",
   "metadata": {
    "papermill": {
     "duration": 0.021206,
     "end_time": "2024-11-23T12:30:47.529136",
     "exception": false,
     "start_time": "2024-11-23T12:30:47.507930",
     "status": "completed"
    },
    "tags": []
   },
   "source": [
    "Burada kayıp veri silme işleminden sonra hiçbir sütunumda kayıp veri kalmadığını görüyoruz."
   ]
  },
  {
   "cell_type": "code",
   "execution_count": 23,
   "id": "4bf5dddf",
   "metadata": {
    "execution": {
     "iopub.execute_input": "2024-11-23T12:30:47.573596Z",
     "iopub.status.busy": "2024-11-23T12:30:47.573209Z",
     "iopub.status.idle": "2024-11-23T12:30:47.592558Z",
     "shell.execute_reply": "2024-11-23T12:30:47.591159Z"
    },
    "papermill": {
     "duration": 0.044561,
     "end_time": "2024-11-23T12:30:47.594984",
     "exception": false,
     "start_time": "2024-11-23T12:30:47.550423",
     "status": "completed"
    },
    "tags": []
   },
   "outputs": [
    {
     "name": "stdout",
     "output_type": "stream",
     "text": [
      "<class 'pandas.core.frame.DataFrame'>\n",
      "Index: 34365 entries, 2 to 199998\n",
      "Data columns (total 13 columns):\n",
      " #   Column          Non-Null Count  Dtype  \n",
      "---  ------          --------------  -----  \n",
      " 0   Student ID      34365 non-null  float64\n",
      " 1   Age             34365 non-null  float64\n",
      " 2   Gender          34365 non-null  object \n",
      " 3   Height          34365 non-null  float64\n",
      " 4   Weight          34365 non-null  float64\n",
      " 5   Blood Type      34365 non-null  object \n",
      " 6   BMI             34365 non-null  float64\n",
      " 7   Temperature     34365 non-null  float64\n",
      " 8   Heart Rate      34365 non-null  float64\n",
      " 9   Blood Pressure  34365 non-null  float64\n",
      " 10  Cholesterol     34365 non-null  float64\n",
      " 11  Diabetes        34365 non-null  object \n",
      " 12  Smoking         34365 non-null  object \n",
      "dtypes: float64(9), object(4)\n",
      "memory usage: 3.7+ MB\n"
     ]
    }
   ],
   "source": [
    "df_clear.info()"
   ]
  },
  {
   "cell_type": "markdown",
   "id": "daf80564",
   "metadata": {
    "papermill": {
     "duration": 0.021114,
     "end_time": "2024-11-23T12:30:47.637471",
     "exception": false,
     "start_time": "2024-11-23T12:30:47.616357",
     "status": "completed"
    },
    "tags": []
   },
   "source": [
    "Veri setimde sütunlardaki yeni veri sayılarını görüyoruz her bir sütunda 34365 veri bulunuyor ve artık kayıp verimiz yok. Orjinal indexler silinmedi ancak yeni veri setimizle işlemler yaptığımızda kayıp veri olan satırları sildiği için o satırları işleme almadan atlayarak devam ediyor."
   ]
  },
  {
   "cell_type": "markdown",
   "id": "918c3e67",
   "metadata": {
    "papermill": {
     "duration": 0.02188,
     "end_time": "2024-11-23T12:30:47.680655",
     "exception": false,
     "start_time": "2024-11-23T12:30:47.658775",
     "status": "completed"
    },
    "tags": []
   },
   "source": [
    "## KATEGORİK DEĞİŞKEN ANALİZLERİM"
   ]
  },
  {
   "cell_type": "code",
   "execution_count": 24,
   "id": "981e4585",
   "metadata": {
    "execution": {
     "iopub.execute_input": "2024-11-23T12:30:47.726304Z",
     "iopub.status.busy": "2024-11-23T12:30:47.725401Z",
     "iopub.status.idle": "2024-11-23T12:30:47.738907Z",
     "shell.execute_reply": "2024-11-23T12:30:47.737670Z"
    },
    "papermill": {
     "duration": 0.038596,
     "end_time": "2024-11-23T12:30:47.740989",
     "exception": false,
     "start_time": "2024-11-23T12:30:47.702393",
     "status": "completed"
    },
    "tags": []
   },
   "outputs": [
    {
     "data": {
      "text/html": [
       "<div>\n",
       "<style scoped>\n",
       "    .dataframe tbody tr th:only-of-type {\n",
       "        vertical-align: middle;\n",
       "    }\n",
       "\n",
       "    .dataframe tbody tr th {\n",
       "        vertical-align: top;\n",
       "    }\n",
       "\n",
       "    .dataframe thead th {\n",
       "        text-align: right;\n",
       "    }\n",
       "</style>\n",
       "<table border=\"1\" class=\"dataframe\">\n",
       "  <thead>\n",
       "    <tr style=\"text-align: right;\">\n",
       "      <th></th>\n",
       "      <th>Gender</th>\n",
       "      <th>Blood Type</th>\n",
       "      <th>Diabetes</th>\n",
       "      <th>Smoking</th>\n",
       "    </tr>\n",
       "  </thead>\n",
       "  <tbody>\n",
       "    <tr>\n",
       "      <th>2</th>\n",
       "      <td>Female</td>\n",
       "      <td>A</td>\n",
       "      <td>Yes</td>\n",
       "      <td>No</td>\n",
       "    </tr>\n",
       "    <tr>\n",
       "      <th>7</th>\n",
       "      <td>Male</td>\n",
       "      <td>AB</td>\n",
       "      <td>No</td>\n",
       "      <td>No</td>\n",
       "    </tr>\n",
       "    <tr>\n",
       "      <th>11</th>\n",
       "      <td>Female</td>\n",
       "      <td>AB</td>\n",
       "      <td>No</td>\n",
       "      <td>No</td>\n",
       "    </tr>\n",
       "    <tr>\n",
       "      <th>19</th>\n",
       "      <td>Male</td>\n",
       "      <td>B</td>\n",
       "      <td>No</td>\n",
       "      <td>No</td>\n",
       "    </tr>\n",
       "    <tr>\n",
       "      <th>29</th>\n",
       "      <td>Male</td>\n",
       "      <td>AB</td>\n",
       "      <td>No</td>\n",
       "      <td>No</td>\n",
       "    </tr>\n",
       "    <tr>\n",
       "      <th>...</th>\n",
       "      <td>...</td>\n",
       "      <td>...</td>\n",
       "      <td>...</td>\n",
       "      <td>...</td>\n",
       "    </tr>\n",
       "    <tr>\n",
       "      <th>199965</th>\n",
       "      <td>Female</td>\n",
       "      <td>AB</td>\n",
       "      <td>Yes</td>\n",
       "      <td>No</td>\n",
       "    </tr>\n",
       "    <tr>\n",
       "      <th>199973</th>\n",
       "      <td>Female</td>\n",
       "      <td>B</td>\n",
       "      <td>Yes</td>\n",
       "      <td>No</td>\n",
       "    </tr>\n",
       "    <tr>\n",
       "      <th>199985</th>\n",
       "      <td>Female</td>\n",
       "      <td>B</td>\n",
       "      <td>No</td>\n",
       "      <td>Yes</td>\n",
       "    </tr>\n",
       "    <tr>\n",
       "      <th>199986</th>\n",
       "      <td>Male</td>\n",
       "      <td>A</td>\n",
       "      <td>No</td>\n",
       "      <td>No</td>\n",
       "    </tr>\n",
       "    <tr>\n",
       "      <th>199998</th>\n",
       "      <td>Female</td>\n",
       "      <td>A</td>\n",
       "      <td>No</td>\n",
       "      <td>No</td>\n",
       "    </tr>\n",
       "  </tbody>\n",
       "</table>\n",
       "<p>34365 rows × 4 columns</p>\n",
       "</div>"
      ],
      "text/plain": [
       "        Gender Blood Type Diabetes Smoking\n",
       "2       Female          A      Yes      No\n",
       "7         Male         AB       No      No\n",
       "11      Female         AB       No      No\n",
       "19        Male          B       No      No\n",
       "29        Male         AB       No      No\n",
       "...        ...        ...      ...     ...\n",
       "199965  Female         AB      Yes      No\n",
       "199973  Female          B      Yes      No\n",
       "199985  Female          B       No     Yes\n",
       "199986    Male          A       No      No\n",
       "199998  Female          A       No      No\n",
       "\n",
       "[34365 rows x 4 columns]"
      ]
     },
     "execution_count": 24,
     "metadata": {},
     "output_type": "execute_result"
    }
   ],
   "source": [
    "df_clear_categorical = df_clear.select_dtypes(include=\"object\")\n",
    "df_clear_categorical"
   ]
  },
  {
   "cell_type": "markdown",
   "id": "f986003a",
   "metadata": {
    "papermill": {
     "duration": 0.021724,
     "end_time": "2024-11-23T12:30:47.785010",
     "exception": false,
     "start_time": "2024-11-23T12:30:47.763286",
     "status": "completed"
    },
    "tags": []
   },
   "source": [
    "Burada kategorik olan tüm değişkenlerimi \"df_clear_categorical\" olarak adlandırıp görüntülüyorum\r\n",
    "\r\n"
   ]
  },
  {
   "cell_type": "code",
   "execution_count": 25,
   "id": "eac6b7be",
   "metadata": {
    "execution": {
     "iopub.execute_input": "2024-11-23T12:30:47.832486Z",
     "iopub.status.busy": "2024-11-23T12:30:47.831224Z",
     "iopub.status.idle": "2024-11-23T12:30:47.845068Z",
     "shell.execute_reply": "2024-11-23T12:30:47.843835Z"
    },
    "papermill": {
     "duration": 0.03982,
     "end_time": "2024-11-23T12:30:47.847302",
     "exception": false,
     "start_time": "2024-11-23T12:30:47.807482",
     "status": "completed"
    },
    "tags": []
   },
   "outputs": [
    {
     "name": "stdout",
     "output_type": "stream",
     "text": [
      "Gender değişkeninde \"2\"farklı başlığa sahip değişken vardır \n",
      "\n",
      "Blood Type değişkeninde \"4\"farklı başlığa sahip değişken vardır \n",
      "\n",
      "Diabetes değişkeninde \"2\"farklı başlığa sahip değişken vardır \n",
      "\n",
      "Smoking değişkeninde \"2\"farklı başlığa sahip değişken vardır \n",
      "\n"
     ]
    }
   ],
   "source": [
    "for col in df_clear_categorical.columns:\n",
    "    print(f'{col} değişkeninde \"{df_clear_categorical[col].nunique()}\"farklı başlığa sahip değişken vardır \\n')"
   ]
  },
  {
   "cell_type": "markdown",
   "id": "a72cfa53",
   "metadata": {
    "papermill": {
     "duration": 0.021685,
     "end_time": "2024-11-23T12:30:47.890957",
     "exception": false,
     "start_time": "2024-11-23T12:30:47.869272",
     "status": "completed"
    },
    "tags": []
   },
   "source": [
    "bu kod satırında kategorik değişkenlerimin altında kaç adet farklı başlık olduğunu gösteriyoruz.\r\n"
   ]
  },
  {
   "cell_type": "markdown",
   "id": "e1b23b81",
   "metadata": {
    "papermill": {
     "duration": 0.021338,
     "end_time": "2024-11-23T12:30:47.934297",
     "exception": false,
     "start_time": "2024-11-23T12:30:47.912959",
     "status": "completed"
    },
    "tags": []
   },
   "source": [
    "şimdi yapacağım işlemde ise her bir değişkenimin sahip olduğu benzersiz kategorilerden veri setimde kaçar adet olduğunu görüntüleyeceğim"
   ]
  },
  {
   "cell_type": "code",
   "execution_count": 26,
   "id": "add83848",
   "metadata": {
    "execution": {
     "iopub.execute_input": "2024-11-23T12:30:47.979916Z",
     "iopub.status.busy": "2024-11-23T12:30:47.979013Z",
     "iopub.status.idle": "2024-11-23T12:30:47.998071Z",
     "shell.execute_reply": "2024-11-23T12:30:47.997023Z"
    },
    "papermill": {
     "duration": 0.044219,
     "end_time": "2024-11-23T12:30:48.000250",
     "exception": false,
     "start_time": "2024-11-23T12:30:47.956031",
     "status": "completed"
    },
    "tags": []
   },
   "outputs": [
    {
     "name": "stdout",
     "output_type": "stream",
     "text": [
      "Gender\n",
      "Female    17336\n",
      "Male      17029\n",
      "Name: count, dtype: int64\n",
      " ****************************************************************************************************\n",
      "Blood Type\n",
      "B     8732\n",
      "O     8602\n",
      "A     8592\n",
      "AB    8439\n",
      "Name: count, dtype: int64\n",
      " ****************************************************************************************************\n",
      "Diabetes\n",
      "No     31003\n",
      "Yes     3362\n",
      "Name: count, dtype: int64\n",
      " ****************************************************************************************************\n",
      "Smoking\n",
      "No     27535\n",
      "Yes     6830\n",
      "Name: count, dtype: int64\n",
      " ****************************************************************************************************\n"
     ]
    }
   ],
   "source": [
    "for col in df_clear_categorical.columns:\n",
    "    print(f'{df_clear_categorical[col].value_counts()}\\n' , 5*\"********************\")"
   ]
  },
  {
   "cell_type": "markdown",
   "id": "60a962d8",
   "metadata": {
    "papermill": {
     "duration": 0.021544,
     "end_time": "2024-11-23T12:30:48.043797",
     "exception": false,
     "start_time": "2024-11-23T12:30:48.022253",
     "status": "completed"
    },
    "tags": []
   },
   "source": [
    "Burada veri setimde ki kategorileri ve bu kategorilerin kaçar adet veri bulundurduğunu görüyoruz. "
   ]
  },
  {
   "cell_type": "markdown",
   "id": "f58e69e7",
   "metadata": {
    "papermill": {
     "duration": 0.021411,
     "end_time": "2024-11-23T12:30:48.088259",
     "exception": false,
     "start_time": "2024-11-23T12:30:48.066848",
     "status": "completed"
    },
    "tags": []
   },
   "source": [
    "## KATEGORİK DEĞİŞKENLERDE GÖRSELLEŞTİRMELER\r\n"
   ]
  },
  {
   "cell_type": "code",
   "execution_count": 27,
   "id": "766f2532",
   "metadata": {
    "execution": {
     "iopub.execute_input": "2024-11-23T12:30:48.134154Z",
     "iopub.status.busy": "2024-11-23T12:30:48.133235Z",
     "iopub.status.idle": "2024-11-23T12:30:48.288512Z",
     "shell.execute_reply": "2024-11-23T12:30:48.287261Z"
    },
    "papermill": {
     "duration": 0.180802,
     "end_time": "2024-11-23T12:30:48.290868",
     "exception": false,
     "start_time": "2024-11-23T12:30:48.110066",
     "status": "completed"
    },
    "tags": []
   },
   "outputs": [
    {
     "data": {
      "image/png": "[encoded data removed]",
      "text/plain": [
       "<Figure size 700x700 with 1 Axes>"
      ]
     },
     "metadata": {},
     "output_type": "display_data"
    }
   ],
   "source": [
    "df_clear['Blood Type'].value_counts().plot.barh(figsize=(7,7));\n"
   ]
  },
  {
   "cell_type": "markdown",
   "id": "5cc6e18f",
   "metadata": {
    "papermill": {
     "duration": 0.02197,
     "end_time": "2024-11-23T12:30:48.334946",
     "exception": false,
     "start_time": "2024-11-23T12:30:48.312976",
     "status": "completed"
    },
    "tags": []
   },
   "source": [
    "Blood Type değişkenimde 4 farklı kan tipi olduğu için grafiğim bu şekilde karmaşık çıkıyor ancak yine de kan tipi dağılımlarının birbirinde çok da farklı olmadığını göstermek amacıyla bu grafik yeterli."
   ]
  },
  {
   "cell_type": "code",
   "execution_count": 28,
   "id": "a53bca54",
   "metadata": {
    "execution": {
     "iopub.execute_input": "2024-11-23T12:30:48.380433Z",
     "iopub.status.busy": "2024-11-23T12:30:48.380082Z",
     "iopub.status.idle": "2024-11-23T12:30:48.534863Z",
     "shell.execute_reply": "2024-11-23T12:30:48.533620Z"
    },
    "papermill": {
     "duration": 0.180074,
     "end_time": "2024-11-23T12:30:48.537134",
     "exception": false,
     "start_time": "2024-11-23T12:30:48.357060",
     "status": "completed"
    },
    "tags": []
   },
   "outputs": [
    {
     "data": {
      "image/png": "[encoded data removed]",
      "text/plain": [
       "<Figure size 1000x600 with 1 Axes>"
      ]
     },
     "metadata": {},
     "output_type": "display_data"
    }
   ],
   "source": [
    "smoke = df_clear['Smoking'].value_counts().nlargest(10)\n",
    "\n",
    "smoke.plot.barh(figsize=(10, 6))\n",
    "\n",
    "plt.title('Using Smoke')\n",
    "plt.xlabel('Frequency')\n",
    "plt.ylabel('Smoking')\n",
    "plt.show()"
   ]
  },
  {
   "cell_type": "markdown",
   "id": "ba0746f0",
   "metadata": {
    "papermill": {
     "duration": 0.022074,
     "end_time": "2024-11-23T12:30:48.581458",
     "exception": false,
     "start_time": "2024-11-23T12:30:48.559384",
     "status": "completed"
    },
    "tags": []
   },
   "source": [
    "Burada ki grafikte sigara kullanan ve kullanmayan kişilerin grafiğini görüyoruz."
   ]
  },
  {
   "cell_type": "code",
   "execution_count": 29,
   "id": "8d3bf3e2",
   "metadata": {
    "execution": {
     "iopub.execute_input": "2024-11-23T12:30:48.628006Z",
     "iopub.status.busy": "2024-11-23T12:30:48.627229Z",
     "iopub.status.idle": "2024-11-23T12:30:48.822858Z",
     "shell.execute_reply": "2024-11-23T12:30:48.821772Z"
    },
    "papermill": {
     "duration": 0.221437,
     "end_time": "2024-11-23T12:30:48.825139",
     "exception": false,
     "start_time": "2024-11-23T12:30:48.603702",
     "status": "completed"
    },
    "tags": []
   },
   "outputs": [
    {
     "data": {
      "image/png": "[encoded data removed]",
      "text/plain": [
       "<Figure size 500x500 with 1 Axes>"
      ]
     },
     "metadata": {},
     "output_type": "display_data"
    }
   ],
   "source": [
    "df_clear['Diabetes'].value_counts().plot.barh(figsize=(5,5));\n"
   ]
  },
  {
   "cell_type": "markdown",
   "id": "4ce5b534",
   "metadata": {
    "papermill": {
     "duration": 0.022959,
     "end_time": "2024-11-23T12:30:48.872213",
     "exception": false,
     "start_time": "2024-11-23T12:30:48.849254",
     "status": "completed"
    },
    "tags": []
   },
   "source": [
    "Diabet'e sahip olanlar ve olmayanları yine bu grafikte görebiliyoruz."
   ]
  },
  {
   "cell_type": "code",
   "execution_count": 30,
   "id": "5a3688dc",
   "metadata": {
    "execution": {
     "iopub.execute_input": "2024-11-23T12:30:48.921141Z",
     "iopub.status.busy": "2024-11-23T12:30:48.920754Z",
     "iopub.status.idle": "2024-11-23T12:30:49.086378Z",
     "shell.execute_reply": "2024-11-23T12:30:49.085315Z"
    },
    "papermill": {
     "duration": 0.193643,
     "end_time": "2024-11-23T12:30:49.088706",
     "exception": false,
     "start_time": "2024-11-23T12:30:48.895063",
     "status": "completed"
    },
    "tags": []
   },
   "outputs": [
    {
     "data": {
      "image/png": "[encoded data removed]",
      "text/plain": [
       "<Figure size 500x500 with 1 Axes>"
      ]
     },
     "metadata": {},
     "output_type": "display_data"
    }
   ],
   "source": [
    "df_clear['Gender'].value_counts().plot.barh(figsize=(5,5));"
   ]
  },
  {
   "cell_type": "code",
   "execution_count": 31,
   "id": "78b43a40",
   "metadata": {
    "execution": {
     "iopub.execute_input": "2024-11-23T12:30:49.136516Z",
     "iopub.status.busy": "2024-11-23T12:30:49.136143Z",
     "iopub.status.idle": "2024-11-23T12:30:49.140592Z",
     "shell.execute_reply": "2024-11-23T12:30:49.139599Z"
    },
    "papermill": {
     "duration": 0.031104,
     "end_time": "2024-11-23T12:30:49.142922",
     "exception": false,
     "start_time": "2024-11-23T12:30:49.111818",
     "status": "completed"
    },
    "tags": []
   },
   "outputs": [],
   "source": [
    "#Bu grafikte ise cinsiyet dağılımını görmekteyiz."
   ]
  },
  {
   "cell_type": "markdown",
   "id": "aba5b264",
   "metadata": {
    "papermill": {
     "duration": 0.022579,
     "end_time": "2024-11-23T12:30:49.188449",
     "exception": false,
     "start_time": "2024-11-23T12:30:49.165870",
     "status": "completed"
    },
    "tags": []
   },
   "source": [
    "## KATEGORİK GRUPLAMA TERCİHLERİ\r\n"
   ]
  },
  {
   "cell_type": "markdown",
   "id": "17384694",
   "metadata": {
    "papermill": {
     "duration": 0.022353,
     "end_time": "2024-11-23T12:30:49.233614",
     "exception": false,
     "start_time": "2024-11-23T12:30:49.211261",
     "status": "completed"
    },
    "tags": []
   },
   "source": [
    "kendime bir araştırma sorusu oluşturuyorum örneğin Kalp atışının vücut sıcaklığına etkisi var mı? "
   ]
  },
  {
   "cell_type": "code",
   "execution_count": 32,
   "id": "57e50a30",
   "metadata": {
    "execution": {
     "iopub.execute_input": "2024-11-23T12:30:49.281049Z",
     "iopub.status.busy": "2024-11-23T12:30:49.280641Z",
     "iopub.status.idle": "2024-11-23T12:30:49.299285Z",
     "shell.execute_reply": "2024-11-23T12:30:49.298321Z"
    },
    "papermill": {
     "duration": 0.044788,
     "end_time": "2024-11-23T12:30:49.301381",
     "exception": false,
     "start_time": "2024-11-23T12:30:49.256593",
     "status": "completed"
    },
    "tags": []
   },
   "outputs": [
    {
     "data": {
      "text/html": [
       "<div>\n",
       "<style scoped>\n",
       "    .dataframe tbody tr th:only-of-type {\n",
       "        vertical-align: middle;\n",
       "    }\n",
       "\n",
       "    .dataframe tbody tr th {\n",
       "        vertical-align: top;\n",
       "    }\n",
       "\n",
       "    .dataframe thead th {\n",
       "        text-align: right;\n",
       "    }\n",
       "</style>\n",
       "<table border=\"1\" class=\"dataframe\">\n",
       "  <thead>\n",
       "    <tr style=\"text-align: right;\">\n",
       "      <th></th>\n",
       "      <th>Heart Rate</th>\n",
       "      <th>Temperature</th>\n",
       "    </tr>\n",
       "  </thead>\n",
       "  <tbody>\n",
       "    <tr>\n",
       "      <th>10</th>\n",
       "      <td>70.00</td>\n",
       "      <td>98.62</td>\n",
       "    </tr>\n",
       "    <tr>\n",
       "      <th>8</th>\n",
       "      <td>68.00</td>\n",
       "      <td>98.62</td>\n",
       "    </tr>\n",
       "    <tr>\n",
       "      <th>3</th>\n",
       "      <td>63.00</td>\n",
       "      <td>98.62</td>\n",
       "    </tr>\n",
       "    <tr>\n",
       "      <th>19</th>\n",
       "      <td>79.00</td>\n",
       "      <td>98.62</td>\n",
       "    </tr>\n",
       "    <tr>\n",
       "      <th>2</th>\n",
       "      <td>62.00</td>\n",
       "      <td>98.61</td>\n",
       "    </tr>\n",
       "    <tr>\n",
       "      <th>36</th>\n",
       "      <td>96.00</td>\n",
       "      <td>98.61</td>\n",
       "    </tr>\n",
       "    <tr>\n",
       "      <th>24</th>\n",
       "      <td>84.00</td>\n",
       "      <td>98.61</td>\n",
       "    </tr>\n",
       "    <tr>\n",
       "      <th>16</th>\n",
       "      <td>76.00</td>\n",
       "      <td>98.61</td>\n",
       "    </tr>\n",
       "    <tr>\n",
       "      <th>23</th>\n",
       "      <td>83.00</td>\n",
       "      <td>98.61</td>\n",
       "    </tr>\n",
       "    <tr>\n",
       "      <th>20</th>\n",
       "      <td>80.00</td>\n",
       "      <td>98.61</td>\n",
       "    </tr>\n",
       "    <tr>\n",
       "      <th>32</th>\n",
       "      <td>92.00</td>\n",
       "      <td>98.61</td>\n",
       "    </tr>\n",
       "    <tr>\n",
       "      <th>26</th>\n",
       "      <td>86.00</td>\n",
       "      <td>98.61</td>\n",
       "    </tr>\n",
       "    <tr>\n",
       "      <th>31</th>\n",
       "      <td>91.00</td>\n",
       "      <td>98.61</td>\n",
       "    </tr>\n",
       "    <tr>\n",
       "      <th>27</th>\n",
       "      <td>87.00</td>\n",
       "      <td>98.61</td>\n",
       "    </tr>\n",
       "    <tr>\n",
       "      <th>4</th>\n",
       "      <td>64.00</td>\n",
       "      <td>98.60</td>\n",
       "    </tr>\n",
       "    <tr>\n",
       "      <th>9</th>\n",
       "      <td>69.00</td>\n",
       "      <td>98.60</td>\n",
       "    </tr>\n",
       "    <tr>\n",
       "      <th>33</th>\n",
       "      <td>93.00</td>\n",
       "      <td>98.60</td>\n",
       "    </tr>\n",
       "    <tr>\n",
       "      <th>21</th>\n",
       "      <td>81.00</td>\n",
       "      <td>98.60</td>\n",
       "    </tr>\n",
       "    <tr>\n",
       "      <th>22</th>\n",
       "      <td>82.00</td>\n",
       "      <td>98.60</td>\n",
       "    </tr>\n",
       "    <tr>\n",
       "      <th>12</th>\n",
       "      <td>72.00</td>\n",
       "      <td>98.60</td>\n",
       "    </tr>\n",
       "    <tr>\n",
       "      <th>5</th>\n",
       "      <td>65.00</td>\n",
       "      <td>98.60</td>\n",
       "    </tr>\n",
       "    <tr>\n",
       "      <th>13</th>\n",
       "      <td>73.00</td>\n",
       "      <td>98.60</td>\n",
       "    </tr>\n",
       "    <tr>\n",
       "      <th>38</th>\n",
       "      <td>98.00</td>\n",
       "      <td>98.60</td>\n",
       "    </tr>\n",
       "    <tr>\n",
       "      <th>28</th>\n",
       "      <td>88.00</td>\n",
       "      <td>98.60</td>\n",
       "    </tr>\n",
       "    <tr>\n",
       "      <th>1</th>\n",
       "      <td>61.00</td>\n",
       "      <td>98.60</td>\n",
       "    </tr>\n",
       "    <tr>\n",
       "      <th>25</th>\n",
       "      <td>85.00</td>\n",
       "      <td>98.60</td>\n",
       "    </tr>\n",
       "    <tr>\n",
       "      <th>11</th>\n",
       "      <td>71.00</td>\n",
       "      <td>98.60</td>\n",
       "    </tr>\n",
       "    <tr>\n",
       "      <th>0</th>\n",
       "      <td>60.00</td>\n",
       "      <td>98.60</td>\n",
       "    </tr>\n",
       "    <tr>\n",
       "      <th>35</th>\n",
       "      <td>95.00</td>\n",
       "      <td>98.60</td>\n",
       "    </tr>\n",
       "    <tr>\n",
       "      <th>18</th>\n",
       "      <td>78.00</td>\n",
       "      <td>98.59</td>\n",
       "    </tr>\n",
       "    <tr>\n",
       "      <th>6</th>\n",
       "      <td>66.00</td>\n",
       "      <td>98.59</td>\n",
       "    </tr>\n",
       "    <tr>\n",
       "      <th>39</th>\n",
       "      <td>99.00</td>\n",
       "      <td>98.59</td>\n",
       "    </tr>\n",
       "    <tr>\n",
       "      <th>7</th>\n",
       "      <td>67.00</td>\n",
       "      <td>98.59</td>\n",
       "    </tr>\n",
       "    <tr>\n",
       "      <th>14</th>\n",
       "      <td>74.00</td>\n",
       "      <td>98.59</td>\n",
       "    </tr>\n",
       "    <tr>\n",
       "      <th>37</th>\n",
       "      <td>97.00</td>\n",
       "      <td>98.59</td>\n",
       "    </tr>\n",
       "    <tr>\n",
       "      <th>30</th>\n",
       "      <td>90.00</td>\n",
       "      <td>98.59</td>\n",
       "    </tr>\n",
       "    <tr>\n",
       "      <th>17</th>\n",
       "      <td>77.00</td>\n",
       "      <td>98.58</td>\n",
       "    </tr>\n",
       "    <tr>\n",
       "      <th>34</th>\n",
       "      <td>94.00</td>\n",
       "      <td>98.58</td>\n",
       "    </tr>\n",
       "    <tr>\n",
       "      <th>29</th>\n",
       "      <td>89.00</td>\n",
       "      <td>98.58</td>\n",
       "    </tr>\n",
       "    <tr>\n",
       "      <th>15</th>\n",
       "      <td>75.00</td>\n",
       "      <td>98.58</td>\n",
       "    </tr>\n",
       "  </tbody>\n",
       "</table>\n",
       "</div>"
      ],
      "text/plain": [
       "    Heart Rate  Temperature\n",
       "10       70.00        98.62\n",
       "8        68.00        98.62\n",
       "3        63.00        98.62\n",
       "19       79.00        98.62\n",
       "2        62.00        98.61\n",
       "36       96.00        98.61\n",
       "24       84.00        98.61\n",
       "16       76.00        98.61\n",
       "23       83.00        98.61\n",
       "20       80.00        98.61\n",
       "32       92.00        98.61\n",
       "26       86.00        98.61\n",
       "31       91.00        98.61\n",
       "27       87.00        98.61\n",
       "4        64.00        98.60\n",
       "9        69.00        98.60\n",
       "33       93.00        98.60\n",
       "21       81.00        98.60\n",
       "22       82.00        98.60\n",
       "12       72.00        98.60\n",
       "5        65.00        98.60\n",
       "13       73.00        98.60\n",
       "38       98.00        98.60\n",
       "28       88.00        98.60\n",
       "1        61.00        98.60\n",
       "25       85.00        98.60\n",
       "11       71.00        98.60\n",
       "0        60.00        98.60\n",
       "35       95.00        98.60\n",
       "18       78.00        98.59\n",
       "6        66.00        98.59\n",
       "39       99.00        98.59\n",
       "7        67.00        98.59\n",
       "14       74.00        98.59\n",
       "37       97.00        98.59\n",
       "30       90.00        98.59\n",
       "17       77.00        98.58\n",
       "34       94.00        98.58\n",
       "29       89.00        98.58\n",
       "15       75.00        98.58"
      ]
     },
     "execution_count": 32,
     "metadata": {},
     "output_type": "execute_result"
    }
   ],
   "source": [
    "df_clear_Blood_Pre = df.groupby(by = \"Heart Rate\")[\"Temperature\"].mean().to_frame().reset_index().sort_values(by = \"Temperature\", ascending = False)\n",
    "\n",
    "df_clear_Blood_Pre"
   ]
  },
  {
   "cell_type": "markdown",
   "id": "8b78a534",
   "metadata": {
    "papermill": {
     "duration": 0.023059,
     "end_time": "2024-11-23T12:30:49.348022",
     "exception": false,
     "start_time": "2024-11-23T12:30:49.324963",
     "status": "completed"
    },
    "tags": []
   },
   "source": [
    "Kalp atışınını vücut sıcaklığına herhangi bir etkisi olmadığı görülmektedir."
   ]
  },
  {
   "cell_type": "code",
   "execution_count": 33,
   "id": "e95d6953",
   "metadata": {
    "execution": {
     "iopub.execute_input": "2024-11-23T12:30:49.395858Z",
     "iopub.status.busy": "2024-11-23T12:30:49.395435Z",
     "iopub.status.idle": "2024-11-23T12:30:49.416870Z",
     "shell.execute_reply": "2024-11-23T12:30:49.415828Z"
    },
    "papermill": {
     "duration": 0.048016,
     "end_time": "2024-11-23T12:30:49.419177",
     "exception": false,
     "start_time": "2024-11-23T12:30:49.371161",
     "status": "completed"
    },
    "tags": []
   },
   "outputs": [
    {
     "data": {
      "text/html": [
       "<div>\n",
       "<style scoped>\n",
       "    .dataframe tbody tr th:only-of-type {\n",
       "        vertical-align: middle;\n",
       "    }\n",
       "\n",
       "    .dataframe tbody tr th {\n",
       "        vertical-align: top;\n",
       "    }\n",
       "\n",
       "    .dataframe thead th {\n",
       "        text-align: right;\n",
       "    }\n",
       "</style>\n",
       "<table border=\"1\" class=\"dataframe\">\n",
       "  <thead>\n",
       "    <tr style=\"text-align: right;\">\n",
       "      <th></th>\n",
       "      <th>Blood Type</th>\n",
       "      <th>Gender</th>\n",
       "      <th>count</th>\n",
       "    </tr>\n",
       "  </thead>\n",
       "  <tbody>\n",
       "    <tr>\n",
       "      <th>0</th>\n",
       "      <td>A</td>\n",
       "      <td>Male</td>\n",
       "      <td>4297</td>\n",
       "    </tr>\n",
       "    <tr>\n",
       "      <th>1</th>\n",
       "      <td>A</td>\n",
       "      <td>Female</td>\n",
       "      <td>4295</td>\n",
       "    </tr>\n",
       "  </tbody>\n",
       "</table>\n",
       "</div>"
      ],
      "text/plain": [
       "  Blood Type  Gender  count\n",
       "0          A    Male   4297\n",
       "1          A  Female   4295"
      ]
     },
     "execution_count": 33,
     "metadata": {},
     "output_type": "execute_result"
    }
   ],
   "source": [
    "df_clear_country = df_clear.groupby(by = \"Blood Type\")[\"Gender\"].value_counts().to_frame().reset_index().sort_values(by = \"count\", ascending = False)\n",
    "df_clear_turkey = df_clear_country[df_clear_country['Blood Type']==\"A\"]\n",
    "df_clear_turkey"
   ]
  },
  {
   "cell_type": "markdown",
   "id": "e669d233",
   "metadata": {
    "papermill": {
     "duration": 0.02276,
     "end_time": "2024-11-23T12:30:49.465171",
     "exception": false,
     "start_time": "2024-11-23T12:30:49.442411",
     "status": "completed"
    },
    "tags": []
   },
   "source": [
    "Burada A kan gurubuna sahip kadın ve erkeklerin sayılarını öğreniyoruz."
   ]
  },
  {
   "cell_type": "markdown",
   "id": "6967729d",
   "metadata": {
    "papermill": {
     "duration": 0.022875,
     "end_time": "2024-11-23T12:30:49.511106",
     "exception": false,
     "start_time": "2024-11-23T12:30:49.488231",
     "status": "completed"
    },
    "tags": []
   },
   "source": [
    "## NUMERİC DEĞİŞKEN ANALİZLERİM"
   ]
  },
  {
   "cell_type": "code",
   "execution_count": 34,
   "id": "1315579c",
   "metadata": {
    "execution": {
     "iopub.execute_input": "2024-11-23T12:30:49.559347Z",
     "iopub.status.busy": "2024-11-23T12:30:49.558971Z",
     "iopub.status.idle": "2024-11-23T12:30:49.572295Z",
     "shell.execute_reply": "2024-11-23T12:30:49.571075Z"
    },
    "papermill": {
     "duration": 0.040158,
     "end_time": "2024-11-23T12:30:49.574291",
     "exception": false,
     "start_time": "2024-11-23T12:30:49.534133",
     "status": "completed"
    },
    "tags": []
   },
   "outputs": [
    {
     "data": {
      "text/html": [
       "<div>\n",
       "<style scoped>\n",
       "    .dataframe tbody tr th:only-of-type {\n",
       "        vertical-align: middle;\n",
       "    }\n",
       "\n",
       "    .dataframe tbody tr th {\n",
       "        vertical-align: top;\n",
       "    }\n",
       "\n",
       "    .dataframe thead th {\n",
       "        text-align: right;\n",
       "    }\n",
       "</style>\n",
       "<table border=\"1\" class=\"dataframe\">\n",
       "  <thead>\n",
       "    <tr style=\"text-align: right;\">\n",
       "      <th></th>\n",
       "      <th>Student ID</th>\n",
       "      <th>Age</th>\n",
       "      <th>Height</th>\n",
       "      <th>Weight</th>\n",
       "      <th>BMI</th>\n",
       "      <th>Temperature</th>\n",
       "      <th>Heart Rate</th>\n",
       "      <th>Blood Pressure</th>\n",
       "      <th>Cholesterol</th>\n",
       "    </tr>\n",
       "  </thead>\n",
       "  <tbody>\n",
       "    <tr>\n",
       "      <th>2</th>\n",
       "      <td>3.00</td>\n",
       "      <td>32.00</td>\n",
       "      <td>182.54</td>\n",
       "      <td>55.74</td>\n",
       "      <td>16.73</td>\n",
       "      <td>98.26</td>\n",
       "      <td>76.00</td>\n",
       "      <td>130.00</td>\n",
       "      <td>216.00</td>\n",
       "    </tr>\n",
       "    <tr>\n",
       "      <th>7</th>\n",
       "      <td>8.00</td>\n",
       "      <td>28.00</td>\n",
       "      <td>186.49</td>\n",
       "      <td>52.39</td>\n",
       "      <td>15.06</td>\n",
       "      <td>98.23</td>\n",
       "      <td>85.00</td>\n",
       "      <td>123.00</td>\n",
       "      <td>128.00</td>\n",
       "    </tr>\n",
       "    <tr>\n",
       "      <th>11</th>\n",
       "      <td>12.00</td>\n",
       "      <td>34.00</td>\n",
       "      <td>182.42</td>\n",
       "      <td>76.37</td>\n",
       "      <td>22.95</td>\n",
       "      <td>98.12</td>\n",
       "      <td>86.00</td>\n",
       "      <td>97.00</td>\n",
       "      <td>247.00</td>\n",
       "    </tr>\n",
       "    <tr>\n",
       "      <th>19</th>\n",
       "      <td>20.00</td>\n",
       "      <td>31.00</td>\n",
       "      <td>166.49</td>\n",
       "      <td>49.96</td>\n",
       "      <td>18.02</td>\n",
       "      <td>98.81</td>\n",
       "      <td>82.00</td>\n",
       "      <td>96.00</td>\n",
       "      <td>223.00</td>\n",
       "    </tr>\n",
       "    <tr>\n",
       "      <th>29</th>\n",
       "      <td>30.00</td>\n",
       "      <td>34.00</td>\n",
       "      <td>192.50</td>\n",
       "      <td>86.91</td>\n",
       "      <td>23.45</td>\n",
       "      <td>99.47</td>\n",
       "      <td>68.00</td>\n",
       "      <td>124.00</td>\n",
       "      <td>165.00</td>\n",
       "    </tr>\n",
       "  </tbody>\n",
       "</table>\n",
       "</div>"
      ],
      "text/plain": [
       "    Student ID   Age  Height  Weight   BMI  Temperature  Heart Rate  \\\n",
       "2         3.00 32.00  182.54   55.74 16.73        98.26       76.00   \n",
       "7         8.00 28.00  186.49   52.39 15.06        98.23       85.00   \n",
       "11       12.00 34.00  182.42   76.37 22.95        98.12       86.00   \n",
       "19       20.00 31.00  166.49   49.96 18.02        98.81       82.00   \n",
       "29       30.00 34.00  192.50   86.91 23.45        99.47       68.00   \n",
       "\n",
       "    Blood Pressure  Cholesterol  \n",
       "2           130.00       216.00  \n",
       "7           123.00       128.00  \n",
       "11           97.00       247.00  \n",
       "19           96.00       223.00  \n",
       "29          124.00       165.00  "
      ]
     },
     "execution_count": 34,
     "metadata": {},
     "output_type": "execute_result"
    }
   ],
   "source": [
    "df_clear_numerical = df_clear.select_dtypes(include = [\"float64\",\"int64\"])\n",
    "df_clear_numerical.head()"
   ]
  },
  {
   "cell_type": "markdown",
   "id": "a901c244",
   "metadata": {
    "papermill": {
     "duration": 0.023633,
     "end_time": "2024-11-23T12:30:49.621563",
     "exception": false,
     "start_time": "2024-11-23T12:30:49.597930",
     "status": "completed"
    },
    "tags": []
   },
   "source": [
    "Burada parametresi float veya int olan değişkenleri seçiyoruz bunları da nümerik değişkenlerimiz olarak kodluyoruz.\r\n",
    "\r\n"
   ]
  },
  {
   "cell_type": "code",
   "execution_count": 35,
   "id": "4022c113",
   "metadata": {
    "execution": {
     "iopub.execute_input": "2024-11-23T12:30:49.670300Z",
     "iopub.status.busy": "2024-11-23T12:30:49.669914Z",
     "iopub.status.idle": "2024-11-23T12:30:49.709111Z",
     "shell.execute_reply": "2024-11-23T12:30:49.708136Z"
    },
    "papermill": {
     "duration": 0.066208,
     "end_time": "2024-11-23T12:30:49.711305",
     "exception": false,
     "start_time": "2024-11-23T12:30:49.645097",
     "status": "completed"
    },
    "tags": []
   },
   "outputs": [
    {
     "data": {
      "text/html": [
       "<div>\n",
       "<style scoped>\n",
       "    .dataframe tbody tr th:only-of-type {\n",
       "        vertical-align: middle;\n",
       "    }\n",
       "\n",
       "    .dataframe tbody tr th {\n",
       "        vertical-align: top;\n",
       "    }\n",
       "\n",
       "    .dataframe thead th {\n",
       "        text-align: right;\n",
       "    }\n",
       "</style>\n",
       "<table border=\"1\" class=\"dataframe\">\n",
       "  <thead>\n",
       "    <tr style=\"text-align: right;\">\n",
       "      <th></th>\n",
       "      <th>count</th>\n",
       "      <th>mean</th>\n",
       "      <th>std</th>\n",
       "      <th>min</th>\n",
       "      <th>25%</th>\n",
       "      <th>50%</th>\n",
       "      <th>75%</th>\n",
       "      <th>max</th>\n",
       "    </tr>\n",
       "  </thead>\n",
       "  <tbody>\n",
       "    <tr>\n",
       "      <th>Student ID</th>\n",
       "      <td>34365.00</td>\n",
       "      <td>50095.09</td>\n",
       "      <td>28800.67</td>\n",
       "      <td>3.00</td>\n",
       "      <td>25038.00</td>\n",
       "      <td>50257.00</td>\n",
       "      <td>75011.00</td>\n",
       "      <td>99999.00</td>\n",
       "    </tr>\n",
       "    <tr>\n",
       "      <th>Age</th>\n",
       "      <td>34365.00</td>\n",
       "      <td>26.03</td>\n",
       "      <td>4.89</td>\n",
       "      <td>18.00</td>\n",
       "      <td>22.00</td>\n",
       "      <td>26.00</td>\n",
       "      <td>30.00</td>\n",
       "      <td>34.00</td>\n",
       "    </tr>\n",
       "    <tr>\n",
       "      <th>Height</th>\n",
       "      <td>34365.00</td>\n",
       "      <td>174.88</td>\n",
       "      <td>14.42</td>\n",
       "      <td>150.00</td>\n",
       "      <td>162.50</td>\n",
       "      <td>174.77</td>\n",
       "      <td>187.43</td>\n",
       "      <td>200.00</td>\n",
       "    </tr>\n",
       "    <tr>\n",
       "      <th>Weight</th>\n",
       "      <td>34365.00</td>\n",
       "      <td>70.07</td>\n",
       "      <td>17.31</td>\n",
       "      <td>40.00</td>\n",
       "      <td>55.04</td>\n",
       "      <td>70.25</td>\n",
       "      <td>85.09</td>\n",
       "      <td>100.00</td>\n",
       "    </tr>\n",
       "    <tr>\n",
       "      <th>BMI</th>\n",
       "      <td>34365.00</td>\n",
       "      <td>23.39</td>\n",
       "      <td>7.05</td>\n",
       "      <td>10.07</td>\n",
       "      <td>17.87</td>\n",
       "      <td>22.77</td>\n",
       "      <td>28.08</td>\n",
       "      <td>44.29</td>\n",
       "    </tr>\n",
       "    <tr>\n",
       "      <th>Temperature</th>\n",
       "      <td>34365.00</td>\n",
       "      <td>98.60</td>\n",
       "      <td>0.50</td>\n",
       "      <td>96.40</td>\n",
       "      <td>98.26</td>\n",
       "      <td>98.60</td>\n",
       "      <td>98.94</td>\n",
       "      <td>100.75</td>\n",
       "    </tr>\n",
       "    <tr>\n",
       "      <th>Heart Rate</th>\n",
       "      <td>34365.00</td>\n",
       "      <td>79.48</td>\n",
       "      <td>11.56</td>\n",
       "      <td>60.00</td>\n",
       "      <td>70.00</td>\n",
       "      <td>79.00</td>\n",
       "      <td>90.00</td>\n",
       "      <td>99.00</td>\n",
       "    </tr>\n",
       "    <tr>\n",
       "      <th>Blood Pressure</th>\n",
       "      <td>34365.00</td>\n",
       "      <td>114.57</td>\n",
       "      <td>14.37</td>\n",
       "      <td>90.00</td>\n",
       "      <td>102.00</td>\n",
       "      <td>115.00</td>\n",
       "      <td>127.00</td>\n",
       "      <td>139.00</td>\n",
       "    </tr>\n",
       "    <tr>\n",
       "      <th>Cholesterol</th>\n",
       "      <td>34365.00</td>\n",
       "      <td>184.33</td>\n",
       "      <td>37.64</td>\n",
       "      <td>120.00</td>\n",
       "      <td>152.00</td>\n",
       "      <td>184.00</td>\n",
       "      <td>217.00</td>\n",
       "      <td>249.00</td>\n",
       "    </tr>\n",
       "  </tbody>\n",
       "</table>\n",
       "</div>"
      ],
      "text/plain": [
       "                  count     mean      std    min      25%      50%      75%  \\\n",
       "Student ID     34365.00 50095.09 28800.67   3.00 25038.00 50257.00 75011.00   \n",
       "Age            34365.00    26.03     4.89  18.00    22.00    26.00    30.00   \n",
       "Height         34365.00   174.88    14.42 150.00   162.50   174.77   187.43   \n",
       "Weight         34365.00    70.07    17.31  40.00    55.04    70.25    85.09   \n",
       "BMI            34365.00    23.39     7.05  10.07    17.87    22.77    28.08   \n",
       "Temperature    34365.00    98.60     0.50  96.40    98.26    98.60    98.94   \n",
       "Heart Rate     34365.00    79.48    11.56  60.00    70.00    79.00    90.00   \n",
       "Blood Pressure 34365.00   114.57    14.37  90.00   102.00   115.00   127.00   \n",
       "Cholesterol    34365.00   184.33    37.64 120.00   152.00   184.00   217.00   \n",
       "\n",
       "                    max  \n",
       "Student ID     99999.00  \n",
       "Age               34.00  \n",
       "Height           200.00  \n",
       "Weight           100.00  \n",
       "BMI               44.29  \n",
       "Temperature      100.75  \n",
       "Heart Rate        99.00  \n",
       "Blood Pressure   139.00  \n",
       "Cholesterol      249.00  "
      ]
     },
     "execution_count": 35,
     "metadata": {},
     "output_type": "execute_result"
    }
   ],
   "source": [
    "pd.set_option('display.float_format','{:.2f}'.format)\n",
    "df_clear_numerical.describe().T"
   ]
  },
  {
   "cell_type": "markdown",
   "id": "56dd9853",
   "metadata": {
    "papermill": {
     "duration": 0.023585,
     "end_time": "2024-11-23T12:30:49.758824",
     "exception": false,
     "start_time": "2024-11-23T12:30:49.735239",
     "status": "completed"
    },
    "tags": []
   },
   "source": [
    "Burada verilerimizin tanımlayıcı istatistiklerini görüyoruz. Örnek olarak BMI(Vücut kitle indeksi) değerinin ortalması 23.39 ve std sapması 7.05 dir."
   ]
  },
  {
   "cell_type": "code",
   "execution_count": 36,
   "id": "d4a47599",
   "metadata": {
    "execution": {
     "iopub.execute_input": "2024-11-23T12:30:49.808074Z",
     "iopub.status.busy": "2024-11-23T12:30:49.807653Z",
     "iopub.status.idle": "2024-11-23T12:30:56.826733Z",
     "shell.execute_reply": "2024-11-23T12:30:56.825601Z"
    },
    "papermill": {
     "duration": 7.046476,
     "end_time": "2024-11-23T12:30:56.828964",
     "exception": false,
     "start_time": "2024-11-23T12:30:49.782488",
     "status": "completed"
    },
    "tags": []
   },
   "outputs": [
    {
     "name": "stderr",
     "output_type": "stream",
     "text": [
      "/opt/conda/lib/python3.10/site-packages/seaborn/_oldcore.py:1119: FutureWarning: use_inf_as_na option is deprecated and will be removed in a future version. Convert inf values to NaN before operating instead.\n",
      "  with pd.option_context('mode.use_inf_as_na', True):\n"
     ]
    },
    {
     "data": {
      "image/png": "[encoded data removed]",
      "text/plain": [
       "<Figure size 640x480 with 1 Axes>"
      ]
     },
     "metadata": {},
     "output_type": "display_data"
    },
    {
     "data": {
      "text/plain": [
       "<Figure size 1200x600 with 0 Axes>"
      ]
     },
     "metadata": {},
     "output_type": "display_data"
    }
   ],
   "source": [
    "import seaborn as sns\n",
    "import matplotlib.pyplot as plt\n",
    "import matplotlib.ticker as ticker\n",
    "\n",
    "# Verinin histogramını çiz\n",
    "sns.histplot(data=df_clear['BMI'], bins=5000, kde=True, color='skyblue')\n",
    "\n",
    "# X eksenindeki sayıları tam formatta göstermek için\n",
    "plt.gca().xaxis.set_major_formatter(ticker.StrMethodFormatter(\"{x:,.0f}\"))\n",
    "\n",
    "# Başlık ve etiketler\n",
    "plt.title('BMI')\n",
    "plt.xlabel('BMI')\n",
    "plt.ylabel('Frequency')\n",
    "\n",
    "# Grafik boyutunu ayarlamak\n",
    "plt.figure(figsize=(12, 6))\n",
    "\n",
    "# Grafiği göster\n",
    "plt.show()"
   ]
  },
  {
   "cell_type": "markdown",
   "id": "8204bd11",
   "metadata": {
    "papermill": {
     "duration": 0.0246,
     "end_time": "2024-11-23T12:30:56.880325",
     "exception": false,
     "start_time": "2024-11-23T12:30:56.855725",
     "status": "completed"
    },
    "tags": []
   },
   "source": [
    "Burada BMI'nın dağılımını görüyoruz. Sağa çarpık olduğunu söylebiliriz."
   ]
  },
  {
   "cell_type": "code",
   "execution_count": 37,
   "id": "4e460685",
   "metadata": {
    "execution": {
     "iopub.execute_input": "2024-11-23T12:30:56.932823Z",
     "iopub.status.busy": "2024-11-23T12:30:56.932426Z",
     "iopub.status.idle": "2024-11-23T12:30:58.933525Z",
     "shell.execute_reply": "2024-11-23T12:30:58.932427Z"
    },
    "papermill": {
     "duration": 2.029712,
     "end_time": "2024-11-23T12:30:58.936017",
     "exception": false,
     "start_time": "2024-11-23T12:30:56.906305",
     "status": "completed"
    },
    "tags": []
   },
   "outputs": [
    {
     "name": "stderr",
     "output_type": "stream",
     "text": [
      "/opt/conda/lib/python3.10/site-packages/seaborn/_oldcore.py:1119: FutureWarning: use_inf_as_na option is deprecated and will be removed in a future version. Convert inf values to NaN before operating instead.\n",
      "  with pd.option_context('mode.use_inf_as_na', True):\n",
      "/opt/conda/lib/python3.10/site-packages/seaborn/_oldcore.py:1075: FutureWarning: When grouping with a length-1 list-like, you will need to pass a length-1 tuple to get_group in a future version of pandas. Pass `(name,)` instead of `name` to silence this warning.\n",
      "  data_subset = grouped_data.get_group(pd_key)\n",
      "/opt/conda/lib/python3.10/site-packages/seaborn/_oldcore.py:1075: FutureWarning: When grouping with a length-1 list-like, you will need to pass a length-1 tuple to get_group in a future version of pandas. Pass `(name,)` instead of `name` to silence this warning.\n",
      "  data_subset = grouped_data.get_group(pd_key)\n",
      "/opt/conda/lib/python3.10/site-packages/seaborn/_oldcore.py:1075: FutureWarning: When grouping with a length-1 list-like, you will need to pass a length-1 tuple to get_group in a future version of pandas. Pass `(name,)` instead of `name` to silence this warning.\n",
      "  data_subset = grouped_data.get_group(pd_key)\n",
      "/opt/conda/lib/python3.10/site-packages/seaborn/_oldcore.py:1075: FutureWarning: When grouping with a length-1 list-like, you will need to pass a length-1 tuple to get_group in a future version of pandas. Pass `(name,)` instead of `name` to silence this warning.\n",
      "  data_subset = grouped_data.get_group(pd_key)\n",
      "/opt/conda/lib/python3.10/site-packages/seaborn/_oldcore.py:1075: FutureWarning: When grouping with a length-1 list-like, you will need to pass a length-1 tuple to get_group in a future version of pandas. Pass `(name,)` instead of `name` to silence this warning.\n",
      "  data_subset = grouped_data.get_group(pd_key)\n",
      "/opt/conda/lib/python3.10/site-packages/seaborn/_oldcore.py:1075: FutureWarning: When grouping with a length-1 list-like, you will need to pass a length-1 tuple to get_group in a future version of pandas. Pass `(name,)` instead of `name` to silence this warning.\n",
      "  data_subset = grouped_data.get_group(pd_key)\n"
     ]
    },
    {
     "data": {
      "image/png": "[encoded data removed]",
      "text/plain": [
       "<Figure size 640x480 with 1 Axes>"
      ]
     },
     "metadata": {},
     "output_type": "display_data"
    }
   ],
   "source": [
    "# Numerik bir kolonun dağılımını görmek için histogram kullanırız.\n",
    "sns.histplot(data = df, x = \"BMI\", kde = True, hue = \"Blood Type\");"
   ]
  },
  {
   "cell_type": "markdown",
   "id": "2e61bd5a",
   "metadata": {
    "papermill": {
     "duration": 0.026615,
     "end_time": "2024-11-23T12:30:58.989839",
     "exception": false,
     "start_time": "2024-11-23T12:30:58.963224",
     "status": "completed"
    },
    "tags": []
   },
   "source": [
    "Burada BMI nın Blood type ile birlikte histogramına bakıyoruz. "
   ]
  },
  {
   "cell_type": "code",
   "execution_count": 38,
   "id": "20ce8710",
   "metadata": {
    "execution": {
     "iopub.execute_input": "2024-11-23T12:30:59.045784Z",
     "iopub.status.busy": "2024-11-23T12:30:59.044976Z",
     "iopub.status.idle": "2024-11-23T12:31:00.203964Z",
     "shell.execute_reply": "2024-11-23T12:31:00.202782Z"
    },
    "papermill": {
     "duration": 1.189959,
     "end_time": "2024-11-23T12:31:00.206223",
     "exception": false,
     "start_time": "2024-11-23T12:30:59.016264",
     "status": "completed"
    },
    "tags": []
   },
   "outputs": [
    {
     "name": "stderr",
     "output_type": "stream",
     "text": [
      "/opt/conda/lib/python3.10/site-packages/seaborn/_oldcore.py:1119: FutureWarning: use_inf_as_na option is deprecated and will be removed in a future version. Convert inf values to NaN before operating instead.\n",
      "  with pd.option_context('mode.use_inf_as_na', True):\n"
     ]
    },
    {
     "data": {
      "image/png": "[encoded data removed]",
      "text/plain": [
       "<Figure size 640x480 with 1 Axes>"
      ]
     },
     "metadata": {},
     "output_type": "display_data"
    }
   ],
   "source": [
    "# kdeplot ise ilgili numerik değişkenin yoğunluğunu gösterir.\n",
    "sns.kdeplot(df['Temperature'], fill = True);"
   ]
  },
  {
   "cell_type": "markdown",
   "id": "c226baab",
   "metadata": {
    "papermill": {
     "duration": 0.026652,
     "end_time": "2024-11-23T12:31:00.259823",
     "exception": false,
     "start_time": "2024-11-23T12:31:00.233171",
     "status": "completed"
    },
    "tags": []
   },
   "source": [
    "Bu grafikte vücut sıcaklığının yoğunluğuna bakıyoruz."
   ]
  },
  {
   "cell_type": "code",
   "execution_count": 39,
   "id": "147b32c7",
   "metadata": {
    "execution": {
     "iopub.execute_input": "2024-11-23T12:31:00.314967Z",
     "iopub.status.busy": "2024-11-23T12:31:00.314585Z",
     "iopub.status.idle": "2024-11-23T12:31:01.680149Z",
     "shell.execute_reply": "2024-11-23T12:31:01.679061Z"
    },
    "papermill": {
     "duration": 1.395825,
     "end_time": "2024-11-23T12:31:01.682302",
     "exception": false,
     "start_time": "2024-11-23T12:31:00.286477",
     "status": "completed"
    },
    "tags": []
   },
   "outputs": [
    {
     "name": "stderr",
     "output_type": "stream",
     "text": [
      "/opt/conda/lib/python3.10/site-packages/seaborn/_oldcore.py:1119: FutureWarning: use_inf_as_na option is deprecated and will be removed in a future version. Convert inf values to NaN before operating instead.\n",
      "  with pd.option_context('mode.use_inf_as_na', True):\n",
      "/opt/conda/lib/python3.10/site-packages/seaborn/_oldcore.py:1119: FutureWarning: use_inf_as_na option is deprecated and will be removed in a future version. Convert inf values to NaN before operating instead.\n",
      "  with pd.option_context('mode.use_inf_as_na', True):\n"
     ]
    },
    {
     "data": {
      "image/png": "[encoded data removed]",
      "text/plain": [
       "<Figure size 772.125x700 with 1 Axes>"
      ]
     },
     "metadata": {},
     "output_type": "display_data"
    }
   ],
   "source": [
    "# FacetGrid kullanarak kategorik kırılımda yoğunluk gözlemleyebiliriz.\n",
    "sns.FacetGrid(data = df,\n",
    "              hue = \"Smoking\",\n",
    "              height = 7,\n",
    "              xlim = (0, 40)).map(sns.kdeplot, \"BMI\", fill = True).add_legend();"
   ]
  },
  {
   "cell_type": "markdown",
   "id": "54ce03b8",
   "metadata": {
    "papermill": {
     "duration": 0.029112,
     "end_time": "2024-11-23T12:31:01.739997",
     "exception": false,
     "start_time": "2024-11-23T12:31:01.710885",
     "status": "completed"
    },
    "tags": []
   },
   "source": [
    "Kategorik kırılımı görüyoruz. Sigara içmeinin BMI ile ilişkisinin kategorik kırılımı."
   ]
  },
  {
   "cell_type": "code",
   "execution_count": 40,
   "id": "40401c5f",
   "metadata": {
    "execution": {
     "iopub.execute_input": "2024-11-23T12:31:01.796610Z",
     "iopub.status.busy": "2024-11-23T12:31:01.796228Z",
     "iopub.status.idle": "2024-11-23T12:31:04.664130Z",
     "shell.execute_reply": "2024-11-23T12:31:04.663075Z"
    },
    "papermill": {
     "duration": 2.898708,
     "end_time": "2024-11-23T12:31:04.666168",
     "exception": false,
     "start_time": "2024-11-23T12:31:01.767460",
     "status": "completed"
    },
    "tags": []
   },
   "outputs": [
    {
     "data": {
      "text/plain": [
       "<Figure size 1200x800 with 0 Axes>"
      ]
     },
     "metadata": {},
     "output_type": "display_data"
    },
    {
     "data": {
      "image/png": "[encoded data removed]",
      "text/plain": [
       "<Figure size 572.861x500 with 1 Axes>"
      ]
     },
     "metadata": {},
     "output_type": "display_data"
    }
   ],
   "source": [
    "# Catplot ile numerik bir değişkenin kategorik bazda ve kırılımdaki dağılımını görebiliriz.\n",
    "plt.figure(figsize = (12, 8))\n",
    "sns.catplot(data = df, x = \"Smoking\", y = \"BMI\", hue = \"Diabetes\", kind = \"point\");"
   ]
  },
  {
   "cell_type": "markdown",
   "id": "d193647a",
   "metadata": {
    "papermill": {
     "duration": 0.02816,
     "end_time": "2024-11-23T12:31:04.722686",
     "exception": false,
     "start_time": "2024-11-23T12:31:04.694526",
     "status": "completed"
    },
    "tags": []
   },
   "source": [
    "Burada numerik bir değişkenin kategorik bazda ve kırılımdaki dağılımını görebiliriz.Numerik değişkenim BMI ve kategorik değişkenlerim smoking ile Diabetes. "
   ]
  },
  {
   "cell_type": "code",
   "execution_count": 41,
   "id": "fc18ca04",
   "metadata": {
    "execution": {
     "iopub.execute_input": "2024-11-23T12:31:04.781811Z",
     "iopub.status.busy": "2024-11-23T12:31:04.781040Z",
     "iopub.status.idle": "2024-11-23T12:31:05.500942Z",
     "shell.execute_reply": "2024-11-23T12:31:05.499678Z"
    },
    "papermill": {
     "duration": 0.752459,
     "end_time": "2024-11-23T12:31:05.503467",
     "exception": false,
     "start_time": "2024-11-23T12:31:04.751008",
     "status": "completed"
    },
    "tags": []
   },
   "outputs": [
    {
     "data": {
      "image/png": "[encoded data removed]",
      "text/plain": [
       "<Figure size 640x480 with 1 Axes>"
      ]
     },
     "metadata": {},
     "output_type": "display_data"
    }
   ],
   "source": [
    "# Boxplot kategorik olarak numerik dağılımı gösterir, çeyreklik değerler ve IQR'a göre aykırı değerler de boxplot ile gözlemlenebilir.\n",
    "sns.boxplot(data = df,\n",
    "            x = \"Smoking\",\n",
    "            y = \"BMI\",\n",
    "            hue = \"Blood Type\");"
   ]
  },
  {
   "cell_type": "markdown",
   "id": "094b859b",
   "metadata": {
    "papermill": {
     "duration": 0.028357,
     "end_time": "2024-11-23T12:31:05.562312",
     "exception": false,
     "start_time": "2024-11-23T12:31:05.533955",
     "status": "completed"
    },
    "tags": []
   },
   "source": [
    "Box plot grafiğinde genel olarak normal dağıldığını fakat aykırı değerlerimiz olduğu söyelebiliriz."
   ]
  },
  {
   "cell_type": "code",
   "execution_count": 42,
   "id": "6791aeb9",
   "metadata": {
    "execution": {
     "iopub.execute_input": "2024-11-23T12:31:05.621808Z",
     "iopub.status.busy": "2024-11-23T12:31:05.620954Z",
     "iopub.status.idle": "2024-11-23T12:31:07.321235Z",
     "shell.execute_reply": "2024-11-23T12:31:07.320000Z"
    },
    "papermill": {
     "duration": 1.732873,
     "end_time": "2024-11-23T12:31:07.323886",
     "exception": false,
     "start_time": "2024-11-23T12:31:05.591013",
     "status": "completed"
    },
    "tags": []
   },
   "outputs": [
    {
     "name": "stderr",
     "output_type": "stream",
     "text": [
      "/opt/conda/lib/python3.10/site-packages/seaborn/_oldcore.py:1119: FutureWarning: use_inf_as_na option is deprecated and will be removed in a future version. Convert inf values to NaN before operating instead.\n",
      "  with pd.option_context('mode.use_inf_as_na', True):\n",
      "/opt/conda/lib/python3.10/site-packages/seaborn/_oldcore.py:1119: FutureWarning: use_inf_as_na option is deprecated and will be removed in a future version. Convert inf values to NaN before operating instead.\n",
      "  with pd.option_context('mode.use_inf_as_na', True):\n",
      "/opt/conda/lib/python3.10/site-packages/seaborn/_oldcore.py:1075: FutureWarning: When grouping with a length-1 list-like, you will need to pass a length-1 tuple to get_group in a future version of pandas. Pass `(name,)` instead of `name` to silence this warning.\n",
      "  data_subset = grouped_data.get_group(pd_key)\n",
      "/opt/conda/lib/python3.10/site-packages/seaborn/_oldcore.py:1075: FutureWarning: When grouping with a length-1 list-like, you will need to pass a length-1 tuple to get_group in a future version of pandas. Pass `(name,)` instead of `name` to silence this warning.\n",
      "  data_subset = grouped_data.get_group(pd_key)\n",
      "/opt/conda/lib/python3.10/site-packages/seaborn/_oldcore.py:1075: FutureWarning: When grouping with a length-1 list-like, you will need to pass a length-1 tuple to get_group in a future version of pandas. Pass `(name,)` instead of `name` to silence this warning.\n",
      "  data_subset = grouped_data.get_group(pd_key)\n",
      "/opt/conda/lib/python3.10/site-packages/seaborn/_oldcore.py:1075: FutureWarning: When grouping with a length-1 list-like, you will need to pass a length-1 tuple to get_group in a future version of pandas. Pass `(name,)` instead of `name` to silence this warning.\n",
      "  data_subset = grouped_data.get_group(pd_key)\n"
     ]
    },
    {
     "data": {
      "image/png": "[encoded data removed]",
      "text/plain": [
       "<Figure size 1000x800 with 1 Axes>"
      ]
     },
     "metadata": {},
     "output_type": "display_data"
    }
   ],
   "source": [
    "plt.figure(figsize = (10, 8))\n",
    "sns.lineplot(data = df,\n",
    "             x = \"Smoking\",\n",
    "             y = \"BMI\",\n",
    "             hue = \"Blood Type\");"
   ]
  },
  {
   "cell_type": "markdown",
   "id": "b7b9794b",
   "metadata": {
    "papermill": {
     "duration": 0.029439,
     "end_time": "2024-11-23T12:31:07.383776",
     "exception": false,
     "start_time": "2024-11-23T12:31:07.354337",
     "status": "completed"
    },
    "tags": []
   },
   "source": [
    "Çizgi grafiğini görüyoruz. Kan grubu ve sigara içenlerin BMI ya göre çizgi grafiği."
   ]
  },
  {
   "cell_type": "markdown",
   "id": "7b9c9d6f",
   "metadata": {
    "papermill": {
     "duration": 0.029273,
     "end_time": "2024-11-23T12:31:07.442732",
     "exception": false,
     "start_time": "2024-11-23T12:31:07.413459",
     "status": "completed"
    },
    "tags": []
   },
   "source": [
    "## AYKIRI DEĞER ANALİZİ(OUTLIERS "
   ]
  },
  {
   "cell_type": "code",
   "execution_count": 43,
   "id": "5168070e",
   "metadata": {
    "execution": {
     "iopub.execute_input": "2024-11-23T12:31:07.503437Z",
     "iopub.status.busy": "2024-11-23T12:31:07.503083Z",
     "iopub.status.idle": "2024-11-23T12:31:07.514144Z",
     "shell.execute_reply": "2024-11-23T12:31:07.513018Z"
    },
    "papermill": {
     "duration": 0.044318,
     "end_time": "2024-11-23T12:31:07.516662",
     "exception": false,
     "start_time": "2024-11-23T12:31:07.472344",
     "status": "completed"
    },
    "tags": []
   },
   "outputs": [],
   "source": [
    "df = df_.copy()\n"
   ]
  },
  {
   "cell_type": "code",
   "execution_count": 44,
   "id": "9572c6ad",
   "metadata": {
    "execution": {
     "iopub.execute_input": "2024-11-23T12:31:07.579971Z",
     "iopub.status.busy": "2024-11-23T12:31:07.579583Z",
     "iopub.status.idle": "2024-11-23T12:31:07.828663Z",
     "shell.execute_reply": "2024-11-23T12:31:07.827508Z"
    },
    "papermill": {
     "duration": 0.283884,
     "end_time": "2024-11-23T12:31:07.830720",
     "exception": false,
     "start_time": "2024-11-23T12:31:07.546836",
     "status": "completed"
    },
    "tags": []
   },
   "outputs": [
    {
     "data": {
      "image/png": "[encoded data removed]",
      "text/plain": [
       "<Figure size 800x600 with 1 Axes>"
      ]
     },
     "metadata": {},
     "output_type": "display_data"
    }
   ],
   "source": [
    "# Bir değişkendeki IQR'a göre aykırı gözlemleri boxplot kullanarak görselleştirelim.\n",
    "plt.figure(figsize = (8, 6))\n",
    "sns.boxplot(data = df,\n",
    "            y = df[\"BMI\"],\n",
    "            orient = \"v\");"
   ]
  },
  {
   "cell_type": "code",
   "execution_count": 45,
   "id": "ef10510e",
   "metadata": {
    "execution": {
     "iopub.execute_input": "2024-11-23T12:31:07.894577Z",
     "iopub.status.busy": "2024-11-23T12:31:07.894140Z",
     "iopub.status.idle": "2024-11-23T12:31:07.902620Z",
     "shell.execute_reply": "2024-11-23T12:31:07.901627Z"
    },
    "papermill": {
     "duration": 0.044444,
     "end_time": "2024-11-23T12:31:07.904955",
     "exception": false,
     "start_time": "2024-11-23T12:31:07.860511",
     "status": "completed"
    },
    "tags": []
   },
   "outputs": [
    {
     "data": {
      "text/plain": [
       "0        27.65\n",
       "1          NaN\n",
       "2        16.73\n",
       "3        19.10\n",
       "4          NaN\n",
       "          ... \n",
       "199995   30.74\n",
       "199996   16.83\n",
       "199997   33.19\n",
       "199998   20.49\n",
       "199999   42.18\n",
       "Name: BMI, Length: 200000, dtype: float64"
      ]
     },
     "execution_count": 45,
     "metadata": {},
     "output_type": "execute_result"
    }
   ],
   "source": [
    "df_BMI = df['BMI']\n",
    "df_BMI"
   ]
  },
  {
   "cell_type": "code",
   "execution_count": 46,
   "id": "a5915ad1",
   "metadata": {
    "execution": {
     "iopub.execute_input": "2024-11-23T12:31:07.967825Z",
     "iopub.status.busy": "2024-11-23T12:31:07.967038Z",
     "iopub.status.idle": "2024-11-23T12:31:07.983766Z",
     "shell.execute_reply": "2024-11-23T12:31:07.982584Z"
    },
    "papermill": {
     "duration": 0.050723,
     "end_time": "2024-11-23T12:31:07.985992",
     "exception": false,
     "start_time": "2024-11-23T12:31:07.935269",
     "status": "completed"
    },
    "tags": []
   },
   "outputs": [
    {
     "name": "stdout",
     "output_type": "stream",
     "text": [
      "17.85839552425438\n",
      "27.997487364353265\n",
      "10.139091840098885\n"
     ]
    }
   ],
   "source": [
    "# Quantile değerlerin belirlenmesi.\n",
    "Q1 = df_BMI.quantile(0.25)\n",
    "Q3 = df_BMI.quantile(0.75)\n",
    "\n",
    "print(Q1)\n",
    "print(Q3)\n",
    "\n",
    "# IQR değerin belirlenmesi.\n",
    "IQR = Q3-Q1\n",
    "print(IQR)\n",
    "\n",
    "# Alt ve üst sınırların belirlenmesi.\n",
    "lower_fence = Q1 - 1.5*IQR\n",
    "upper_fence = Q3 + 1.5*IQR"
   ]
  },
  {
   "cell_type": "code",
   "execution_count": 47,
   "id": "4b1fe2d7",
   "metadata": {
    "execution": {
     "iopub.execute_input": "2024-11-23T12:31:08.049648Z",
     "iopub.status.busy": "2024-11-23T12:31:08.048485Z",
     "iopub.status.idle": "2024-11-23T12:31:08.057022Z",
     "shell.execute_reply": "2024-11-23T12:31:08.055983Z"
    },
    "papermill": {
     "duration": 0.042695,
     "end_time": "2024-11-23T12:31:08.059079",
     "exception": false,
     "start_time": "2024-11-23T12:31:08.016384",
     "status": "completed"
    },
    "tags": []
   },
   "outputs": [
    {
     "data": {
      "text/plain": [
       "Index([   104,    677,   1047,   1234,   3759,   4813,   5745,   8737,   8749,\n",
       "         9454,\n",
       "       ...\n",
       "       191497, 191590, 191799, 192206, 192398, 194122, 195682, 197825, 198933,\n",
       "       199277],\n",
       "      dtype='int64', length=186)"
      ]
     },
     "execution_count": 47,
     "metadata": {},
     "output_type": "execute_result"
    }
   ],
   "source": [
    "# Upper_fence üzerinde kalan aykırı gözlemlerin index değerlerini, daha sonra kullanmak üzere bir değişkende tutabiliriz.\n",
    "outlier_idx = df_BMI[df_BMI > upper_fence].index\n",
    "\n",
    "outlier_idx"
   ]
  },
  {
   "cell_type": "code",
   "execution_count": 48,
   "id": "d8306e42",
   "metadata": {
    "execution": {
     "iopub.execute_input": "2024-11-23T12:31:08.121788Z",
     "iopub.status.busy": "2024-11-23T12:31:08.121384Z",
     "iopub.status.idle": "2024-11-23T12:31:08.130861Z",
     "shell.execute_reply": "2024-11-23T12:31:08.129630Z"
    },
    "papermill": {
     "duration": 0.043558,
     "end_time": "2024-11-23T12:31:08.133053",
     "exception": false,
     "start_time": "2024-11-23T12:31:08.089495",
     "status": "completed"
    },
    "tags": []
   },
   "outputs": [
    {
     "data": {
      "text/plain": [
       "104      44.01\n",
       "677      43.24\n",
       "1047     43.47\n",
       "1234     43.96\n",
       "3759     43.64\n",
       "          ... \n",
       "194122   44.07\n",
       "195682   43.76\n",
       "197825   43.54\n",
       "198933   43.69\n",
       "199277   43.30\n",
       "Name: BMI, Length: 186, dtype: float64"
      ]
     },
     "execution_count": 48,
     "metadata": {},
     "output_type": "execute_result"
    }
   ],
   "source": [
    "df_BMI[df_BMI > upper_fence]"
   ]
  },
  {
   "cell_type": "markdown",
   "id": "10bae12f",
   "metadata": {
    "papermill": {
     "duration": 0.031349,
     "end_time": "2024-11-23T12:31:08.195638",
     "exception": false,
     "start_time": "2024-11-23T12:31:08.164289",
     "status": "completed"
    },
    "tags": []
   },
   "source": [
    "## AYKIRI GÖZLEMLERİN SİLİNMESİ\r\n"
   ]
  },
  {
   "cell_type": "code",
   "execution_count": 49,
   "id": "1beb497c",
   "metadata": {
    "execution": {
     "iopub.execute_input": "2024-11-23T12:31:08.258143Z",
     "iopub.status.busy": "2024-11-23T12:31:08.257737Z",
     "iopub.status.idle": "2024-11-23T12:31:08.284287Z",
     "shell.execute_reply": "2024-11-23T12:31:08.283113Z"
    },
    "papermill": {
     "duration": 0.060615,
     "end_time": "2024-11-23T12:31:08.286659",
     "exception": false,
     "start_time": "2024-11-23T12:31:08.226044",
     "status": "completed"
    },
    "tags": []
   },
   "outputs": [
    {
     "data": {
      "text/html": [
       "<div>\n",
       "<style scoped>\n",
       "    .dataframe tbody tr th:only-of-type {\n",
       "        vertical-align: middle;\n",
       "    }\n",
       "\n",
       "    .dataframe tbody tr th {\n",
       "        vertical-align: top;\n",
       "    }\n",
       "\n",
       "    .dataframe thead th {\n",
       "        text-align: right;\n",
       "    }\n",
       "</style>\n",
       "<table border=\"1\" class=\"dataframe\">\n",
       "  <thead>\n",
       "    <tr style=\"text-align: right;\">\n",
       "      <th></th>\n",
       "      <th>Student ID</th>\n",
       "      <th>Age</th>\n",
       "      <th>Gender</th>\n",
       "      <th>Height</th>\n",
       "      <th>Weight</th>\n",
       "      <th>Blood Type</th>\n",
       "      <th>BMI</th>\n",
       "      <th>Temperature</th>\n",
       "      <th>Heart Rate</th>\n",
       "      <th>Blood Pressure</th>\n",
       "      <th>Cholesterol</th>\n",
       "      <th>Diabetes</th>\n",
       "      <th>Smoking</th>\n",
       "    </tr>\n",
       "  </thead>\n",
       "  <tbody>\n",
       "    <tr>\n",
       "      <th>0</th>\n",
       "      <td>1.00</td>\n",
       "      <td>18.00</td>\n",
       "      <td>Female</td>\n",
       "      <td>161.78</td>\n",
       "      <td>72.35</td>\n",
       "      <td>O</td>\n",
       "      <td>27.65</td>\n",
       "      <td>NaN</td>\n",
       "      <td>95.00</td>\n",
       "      <td>109.00</td>\n",
       "      <td>203.00</td>\n",
       "      <td>No</td>\n",
       "      <td>NaN</td>\n",
       "    </tr>\n",
       "    <tr>\n",
       "      <th>1</th>\n",
       "      <td>2.00</td>\n",
       "      <td>NaN</td>\n",
       "      <td>Male</td>\n",
       "      <td>152.07</td>\n",
       "      <td>47.63</td>\n",
       "      <td>B</td>\n",
       "      <td>NaN</td>\n",
       "      <td>98.71</td>\n",
       "      <td>93.00</td>\n",
       "      <td>104.00</td>\n",
       "      <td>163.00</td>\n",
       "      <td>No</td>\n",
       "      <td>No</td>\n",
       "    </tr>\n",
       "    <tr>\n",
       "      <th>2</th>\n",
       "      <td>3.00</td>\n",
       "      <td>32.00</td>\n",
       "      <td>Female</td>\n",
       "      <td>182.54</td>\n",
       "      <td>55.74</td>\n",
       "      <td>A</td>\n",
       "      <td>16.73</td>\n",
       "      <td>98.26</td>\n",
       "      <td>76.00</td>\n",
       "      <td>130.00</td>\n",
       "      <td>216.00</td>\n",
       "      <td>Yes</td>\n",
       "      <td>No</td>\n",
       "    </tr>\n",
       "    <tr>\n",
       "      <th>3</th>\n",
       "      <td>NaN</td>\n",
       "      <td>30.00</td>\n",
       "      <td>Male</td>\n",
       "      <td>182.11</td>\n",
       "      <td>63.33</td>\n",
       "      <td>B</td>\n",
       "      <td>19.10</td>\n",
       "      <td>98.84</td>\n",
       "      <td>99.00</td>\n",
       "      <td>112.00</td>\n",
       "      <td>141.00</td>\n",
       "      <td>No</td>\n",
       "      <td>Yes</td>\n",
       "    </tr>\n",
       "    <tr>\n",
       "      <th>4</th>\n",
       "      <td>5.00</td>\n",
       "      <td>23.00</td>\n",
       "      <td>Female</td>\n",
       "      <td>NaN</td>\n",
       "      <td>46.23</td>\n",
       "      <td>O</td>\n",
       "      <td>NaN</td>\n",
       "      <td>98.48</td>\n",
       "      <td>95.00</td>\n",
       "      <td>NaN</td>\n",
       "      <td>231.00</td>\n",
       "      <td>No</td>\n",
       "      <td>No</td>\n",
       "    </tr>\n",
       "    <tr>\n",
       "      <th>...</th>\n",
       "      <td>...</td>\n",
       "      <td>...</td>\n",
       "      <td>...</td>\n",
       "      <td>...</td>\n",
       "      <td>...</td>\n",
       "      <td>...</td>\n",
       "      <td>...</td>\n",
       "      <td>...</td>\n",
       "      <td>...</td>\n",
       "      <td>...</td>\n",
       "      <td>...</td>\n",
       "      <td>...</td>\n",
       "      <td>...</td>\n",
       "    </tr>\n",
       "    <tr>\n",
       "      <th>199995</th>\n",
       "      <td>NaN</td>\n",
       "      <td>24.00</td>\n",
       "      <td>Male</td>\n",
       "      <td>176.50</td>\n",
       "      <td>95.76</td>\n",
       "      <td>B</td>\n",
       "      <td>30.74</td>\n",
       "      <td>99.17</td>\n",
       "      <td>65.00</td>\n",
       "      <td>121.00</td>\n",
       "      <td>130.00</td>\n",
       "      <td>No</td>\n",
       "      <td>No</td>\n",
       "    </tr>\n",
       "    <tr>\n",
       "      <th>199996</th>\n",
       "      <td>99997.00</td>\n",
       "      <td>29.00</td>\n",
       "      <td>Female</td>\n",
       "      <td>163.92</td>\n",
       "      <td>45.23</td>\n",
       "      <td>NaN</td>\n",
       "      <td>16.83</td>\n",
       "      <td>97.87</td>\n",
       "      <td>62.00</td>\n",
       "      <td>125.00</td>\n",
       "      <td>198.00</td>\n",
       "      <td>No</td>\n",
       "      <td>Yes</td>\n",
       "    </tr>\n",
       "    <tr>\n",
       "      <th>199997</th>\n",
       "      <td>99998.00</td>\n",
       "      <td>34.00</td>\n",
       "      <td>Female</td>\n",
       "      <td>NaN</td>\n",
       "      <td>99.65</td>\n",
       "      <td>NaN</td>\n",
       "      <td>33.19</td>\n",
       "      <td>98.77</td>\n",
       "      <td>60.00</td>\n",
       "      <td>90.00</td>\n",
       "      <td>154.00</td>\n",
       "      <td>NaN</td>\n",
       "      <td>No</td>\n",
       "    </tr>\n",
       "    <tr>\n",
       "      <th>199998</th>\n",
       "      <td>99999.00</td>\n",
       "      <td>30.00</td>\n",
       "      <td>Female</td>\n",
       "      <td>156.45</td>\n",
       "      <td>50.14</td>\n",
       "      <td>A</td>\n",
       "      <td>20.49</td>\n",
       "      <td>98.99</td>\n",
       "      <td>61.00</td>\n",
       "      <td>106.00</td>\n",
       "      <td>225.00</td>\n",
       "      <td>No</td>\n",
       "      <td>No</td>\n",
       "    </tr>\n",
       "    <tr>\n",
       "      <th>199999</th>\n",
       "      <td>100000.00</td>\n",
       "      <td>20.00</td>\n",
       "      <td>Female</td>\n",
       "      <td>153.93</td>\n",
       "      <td>99.93</td>\n",
       "      <td>O</td>\n",
       "      <td>42.18</td>\n",
       "      <td>98.60</td>\n",
       "      <td>95.00</td>\n",
       "      <td>133.00</td>\n",
       "      <td>132.00</td>\n",
       "      <td>NaN</td>\n",
       "      <td>No</td>\n",
       "    </tr>\n",
       "  </tbody>\n",
       "</table>\n",
       "<p>199814 rows × 13 columns</p>\n",
       "</div>"
      ],
      "text/plain": [
       "        Student ID   Age  Gender  Height  Weight Blood Type   BMI  \\\n",
       "0             1.00 18.00  Female  161.78   72.35          O 27.65   \n",
       "1             2.00   NaN    Male  152.07   47.63          B   NaN   \n",
       "2             3.00 32.00  Female  182.54   55.74          A 16.73   \n",
       "3              NaN 30.00    Male  182.11   63.33          B 19.10   \n",
       "4             5.00 23.00  Female     NaN   46.23          O   NaN   \n",
       "...            ...   ...     ...     ...     ...        ...   ...   \n",
       "199995         NaN 24.00    Male  176.50   95.76          B 30.74   \n",
       "199996    99997.00 29.00  Female  163.92   45.23        NaN 16.83   \n",
       "199997    99998.00 34.00  Female     NaN   99.65        NaN 33.19   \n",
       "199998    99999.00 30.00  Female  156.45   50.14          A 20.49   \n",
       "199999   100000.00 20.00  Female  153.93   99.93          O 42.18   \n",
       "\n",
       "        Temperature  Heart Rate  Blood Pressure  Cholesterol Diabetes Smoking  \n",
       "0               NaN       95.00          109.00       203.00       No     NaN  \n",
       "1             98.71       93.00          104.00       163.00       No      No  \n",
       "2             98.26       76.00          130.00       216.00      Yes      No  \n",
       "3             98.84       99.00          112.00       141.00       No     Yes  \n",
       "4             98.48       95.00             NaN       231.00       No      No  \n",
       "...             ...         ...             ...          ...      ...     ...  \n",
       "199995        99.17       65.00          121.00       130.00       No      No  \n",
       "199996        97.87       62.00          125.00       198.00       No     Yes  \n",
       "199997        98.77       60.00           90.00       154.00      NaN      No  \n",
       "199998        98.99       61.00          106.00       225.00       No      No  \n",
       "199999        98.60       95.00          133.00       132.00      NaN      No  \n",
       "\n",
       "[199814 rows x 13 columns]"
      ]
     },
     "execution_count": 49,
     "metadata": {},
     "output_type": "execute_result"
    }
   ],
   "source": [
    "df_del = df[~(df_BMI > upper_fence)]\n",
    "\n",
    "df_del"
   ]
  },
  {
   "cell_type": "code",
   "execution_count": 50,
   "id": "6a67b8b8",
   "metadata": {
    "execution": {
     "iopub.execute_input": "2024-11-23T12:31:08.351926Z",
     "iopub.status.busy": "2024-11-23T12:31:08.350666Z",
     "iopub.status.idle": "2024-11-23T12:31:08.593907Z",
     "shell.execute_reply": "2024-11-23T12:31:08.592526Z"
    },
    "papermill": {
     "duration": 0.277543,
     "end_time": "2024-11-23T12:31:08.596233",
     "exception": false,
     "start_time": "2024-11-23T12:31:08.318690",
     "status": "completed"
    },
    "tags": []
   },
   "outputs": [
    {
     "data": {
      "image/png": "[encoded data removed]",
      "text/plain": [
       "<Figure size 800x600 with 1 Axes>"
      ]
     },
     "metadata": {},
     "output_type": "display_data"
    }
   ],
   "source": [
    "plt.figure(figsize = (8, 6))\n",
    "sns.boxplot(data = df_del,\n",
    "            y = df_del[\"BMI\"],\n",
    "            orient = \"v\");"
   ]
  },
  {
   "cell_type": "markdown",
   "id": "814c30cb",
   "metadata": {
    "papermill": {
     "duration": 0.030544,
     "end_time": "2024-11-23T12:31:08.658140",
     "exception": false,
     "start_time": "2024-11-23T12:31:08.627596",
     "status": "completed"
    },
    "tags": []
   },
   "source": [
    "## BASKILAMA YÖNTEMİ\n"
   ]
  },
  {
   "cell_type": "code",
   "execution_count": 51,
   "id": "23321e03",
   "metadata": {
    "execution": {
     "iopub.execute_input": "2024-11-23T12:31:08.722840Z",
     "iopub.status.busy": "2024-11-23T12:31:08.721849Z",
     "iopub.status.idle": "2024-11-23T12:31:08.736687Z",
     "shell.execute_reply": "2024-11-23T12:31:08.735556Z"
    },
    "papermill": {
     "duration": 0.050002,
     "end_time": "2024-11-23T12:31:08.739227",
     "exception": false,
     "start_time": "2024-11-23T12:31:08.689225",
     "status": "completed"
    },
    "tags": []
   },
   "outputs": [],
   "source": [
    "df = df_.copy()"
   ]
  },
  {
   "cell_type": "code",
   "execution_count": 52,
   "id": "3b01ecab",
   "metadata": {
    "execution": {
     "iopub.execute_input": "2024-11-23T12:31:08.802406Z",
     "iopub.status.busy": "2024-11-23T12:31:08.802015Z",
     "iopub.status.idle": "2024-11-23T12:31:08.808596Z",
     "shell.execute_reply": "2024-11-23T12:31:08.807502Z"
    },
    "papermill": {
     "duration": 0.040713,
     "end_time": "2024-11-23T12:31:08.810834",
     "exception": false,
     "start_time": "2024-11-23T12:31:08.770121",
     "status": "completed"
    },
    "tags": []
   },
   "outputs": [],
   "source": [
    "df.loc[df_BMI > upper_fence, \"BMI\"] = upper_fence"
   ]
  },
  {
   "cell_type": "code",
   "execution_count": 53,
   "id": "1bd1dce4",
   "metadata": {
    "execution": {
     "iopub.execute_input": "2024-11-23T12:31:08.875334Z",
     "iopub.status.busy": "2024-11-23T12:31:08.874997Z",
     "iopub.status.idle": "2024-11-23T12:31:09.068901Z",
     "shell.execute_reply": "2024-11-23T12:31:09.067563Z"
    },
    "papermill": {
     "duration": 0.230737,
     "end_time": "2024-11-23T12:31:09.072439",
     "exception": false,
     "start_time": "2024-11-23T12:31:08.841702",
     "status": "completed"
    },
    "tags": []
   },
   "outputs": [
    {
     "data": {
      "image/png": "[encoded data removed]",
      "text/plain": [
       "<Figure size 800x600 with 1 Axes>"
      ]
     },
     "metadata": {},
     "output_type": "display_data"
    }
   ],
   "source": [
    "plt.figure(figsize = (8, 6))\n",
    "sns.boxplot(data = df_del,\n",
    "            y = df[\"BMI\"],\n",
    "            orient = \"v\");"
   ]
  },
  {
   "cell_type": "markdown",
   "id": "3c304ea1",
   "metadata": {
    "papermill": {
     "duration": 0.031371,
     "end_time": "2024-11-23T12:31:09.142481",
     "exception": false,
     "start_time": "2024-11-23T12:31:09.111110",
     "status": "completed"
    },
    "tags": []
   },
   "source": [
    "## FEATURE ENGINEERING"
   ]
  },
  {
   "cell_type": "code",
   "execution_count": 54,
   "id": "0226555b",
   "metadata": {
    "execution": {
     "iopub.execute_input": "2024-11-23T12:31:09.210181Z",
     "iopub.status.busy": "2024-11-23T12:31:09.209167Z",
     "iopub.status.idle": "2024-11-23T12:31:09.223895Z",
     "shell.execute_reply": "2024-11-23T12:31:09.222667Z"
    },
    "papermill": {
     "duration": 0.050869,
     "end_time": "2024-11-23T12:31:09.226014",
     "exception": false,
     "start_time": "2024-11-23T12:31:09.175145",
     "status": "completed"
    },
    "tags": []
   },
   "outputs": [
    {
     "data": {
      "text/html": [
       "<div>\n",
       "<style scoped>\n",
       "    .dataframe tbody tr th:only-of-type {\n",
       "        vertical-align: middle;\n",
       "    }\n",
       "\n",
       "    .dataframe tbody tr th {\n",
       "        vertical-align: top;\n",
       "    }\n",
       "\n",
       "    .dataframe thead th {\n",
       "        text-align: right;\n",
       "    }\n",
       "</style>\n",
       "<table border=\"1\" class=\"dataframe\">\n",
       "  <thead>\n",
       "    <tr style=\"text-align: right;\">\n",
       "      <th></th>\n",
       "      <th>Student ID</th>\n",
       "      <th>Age</th>\n",
       "      <th>Gender</th>\n",
       "      <th>Height</th>\n",
       "      <th>Weight</th>\n",
       "      <th>Blood Type</th>\n",
       "      <th>BMI</th>\n",
       "      <th>Temperature</th>\n",
       "      <th>Heart Rate</th>\n",
       "      <th>Blood Pressure</th>\n",
       "      <th>Cholesterol</th>\n",
       "      <th>Diabetes</th>\n",
       "      <th>Smoking</th>\n",
       "    </tr>\n",
       "  </thead>\n",
       "  <tbody>\n",
       "    <tr>\n",
       "      <th>0</th>\n",
       "      <td>1.00</td>\n",
       "      <td>18.00</td>\n",
       "      <td>Female</td>\n",
       "      <td>161.78</td>\n",
       "      <td>72.35</td>\n",
       "      <td>O</td>\n",
       "      <td>27.65</td>\n",
       "      <td>NaN</td>\n",
       "      <td>95.00</td>\n",
       "      <td>109.00</td>\n",
       "      <td>203.00</td>\n",
       "      <td>No</td>\n",
       "      <td>NaN</td>\n",
       "    </tr>\n",
       "    <tr>\n",
       "      <th>1</th>\n",
       "      <td>2.00</td>\n",
       "      <td>NaN</td>\n",
       "      <td>Male</td>\n",
       "      <td>152.07</td>\n",
       "      <td>47.63</td>\n",
       "      <td>B</td>\n",
       "      <td>NaN</td>\n",
       "      <td>98.71</td>\n",
       "      <td>93.00</td>\n",
       "      <td>104.00</td>\n",
       "      <td>163.00</td>\n",
       "      <td>No</td>\n",
       "      <td>No</td>\n",
       "    </tr>\n",
       "    <tr>\n",
       "      <th>2</th>\n",
       "      <td>3.00</td>\n",
       "      <td>32.00</td>\n",
       "      <td>Female</td>\n",
       "      <td>182.54</td>\n",
       "      <td>55.74</td>\n",
       "      <td>A</td>\n",
       "      <td>16.73</td>\n",
       "      <td>98.26</td>\n",
       "      <td>76.00</td>\n",
       "      <td>130.00</td>\n",
       "      <td>216.00</td>\n",
       "      <td>Yes</td>\n",
       "      <td>No</td>\n",
       "    </tr>\n",
       "    <tr>\n",
       "      <th>3</th>\n",
       "      <td>NaN</td>\n",
       "      <td>30.00</td>\n",
       "      <td>Male</td>\n",
       "      <td>182.11</td>\n",
       "      <td>63.33</td>\n",
       "      <td>B</td>\n",
       "      <td>19.10</td>\n",
       "      <td>98.84</td>\n",
       "      <td>99.00</td>\n",
       "      <td>112.00</td>\n",
       "      <td>141.00</td>\n",
       "      <td>No</td>\n",
       "      <td>Yes</td>\n",
       "    </tr>\n",
       "    <tr>\n",
       "      <th>4</th>\n",
       "      <td>5.00</td>\n",
       "      <td>23.00</td>\n",
       "      <td>Female</td>\n",
       "      <td>NaN</td>\n",
       "      <td>46.23</td>\n",
       "      <td>O</td>\n",
       "      <td>NaN</td>\n",
       "      <td>98.48</td>\n",
       "      <td>95.00</td>\n",
       "      <td>NaN</td>\n",
       "      <td>231.00</td>\n",
       "      <td>No</td>\n",
       "      <td>No</td>\n",
       "    </tr>\n",
       "  </tbody>\n",
       "</table>\n",
       "</div>"
      ],
      "text/plain": [
       "   Student ID   Age  Gender  Height  Weight Blood Type   BMI  Temperature  \\\n",
       "0        1.00 18.00  Female  161.78   72.35          O 27.65          NaN   \n",
       "1        2.00   NaN    Male  152.07   47.63          B   NaN        98.71   \n",
       "2        3.00 32.00  Female  182.54   55.74          A 16.73        98.26   \n",
       "3         NaN 30.00    Male  182.11   63.33          B 19.10        98.84   \n",
       "4        5.00 23.00  Female     NaN   46.23          O   NaN        98.48   \n",
       "\n",
       "   Heart Rate  Blood Pressure  Cholesterol Diabetes Smoking  \n",
       "0       95.00          109.00       203.00       No     NaN  \n",
       "1       93.00          104.00       163.00       No      No  \n",
       "2       76.00          130.00       216.00      Yes      No  \n",
       "3       99.00          112.00       141.00       No     Yes  \n",
       "4       95.00             NaN       231.00       No      No  "
      ]
     },
     "execution_count": 54,
     "metadata": {},
     "output_type": "execute_result"
    }
   ],
   "source": [
    "df.head()"
   ]
  },
  {
   "cell_type": "code",
   "execution_count": 55,
   "id": "94840f95",
   "metadata": {
    "execution": {
     "iopub.execute_input": "2024-11-23T12:31:09.291631Z",
     "iopub.status.busy": "2024-11-23T12:31:09.290678Z",
     "iopub.status.idle": "2024-11-23T12:31:09.353331Z",
     "shell.execute_reply": "2024-11-23T12:31:09.352125Z"
    },
    "papermill": {
     "duration": 0.097921,
     "end_time": "2024-11-23T12:31:09.355694",
     "exception": false,
     "start_time": "2024-11-23T12:31:09.257773",
     "status": "completed"
    },
    "tags": []
   },
   "outputs": [
    {
     "data": {
      "text/html": [
       "<div>\n",
       "<style scoped>\n",
       "    .dataframe tbody tr th:only-of-type {\n",
       "        vertical-align: middle;\n",
       "    }\n",
       "\n",
       "    .dataframe tbody tr th {\n",
       "        vertical-align: top;\n",
       "    }\n",
       "\n",
       "    .dataframe thead th {\n",
       "        text-align: right;\n",
       "    }\n",
       "</style>\n",
       "<table border=\"1\" class=\"dataframe\">\n",
       "  <thead>\n",
       "    <tr style=\"text-align: right;\">\n",
       "      <th></th>\n",
       "      <th>Student ID</th>\n",
       "      <th>Age</th>\n",
       "      <th>Gender</th>\n",
       "      <th>Height</th>\n",
       "      <th>Weight</th>\n",
       "      <th>Blood Type</th>\n",
       "      <th>BMI</th>\n",
       "      <th>Temperature</th>\n",
       "      <th>Heart Rate</th>\n",
       "      <th>Blood Pressure</th>\n",
       "      <th>Cholesterol</th>\n",
       "      <th>Diabetes</th>\n",
       "      <th>Smoking</th>\n",
       "      <th>BMIRANGE</th>\n",
       "    </tr>\n",
       "  </thead>\n",
       "  <tbody>\n",
       "    <tr>\n",
       "      <th>0</th>\n",
       "      <td>1.00</td>\n",
       "      <td>18.00</td>\n",
       "      <td>Female</td>\n",
       "      <td>161.78</td>\n",
       "      <td>72.35</td>\n",
       "      <td>O</td>\n",
       "      <td>27.65</td>\n",
       "      <td>NaN</td>\n",
       "      <td>95.00</td>\n",
       "      <td>109.00</td>\n",
       "      <td>203.00</td>\n",
       "      <td>No</td>\n",
       "      <td>NaN</td>\n",
       "      <td>Low</td>\n",
       "    </tr>\n",
       "    <tr>\n",
       "      <th>1</th>\n",
       "      <td>2.00</td>\n",
       "      <td>NaN</td>\n",
       "      <td>Male</td>\n",
       "      <td>152.07</td>\n",
       "      <td>47.63</td>\n",
       "      <td>B</td>\n",
       "      <td>NaN</td>\n",
       "      <td>98.71</td>\n",
       "      <td>93.00</td>\n",
       "      <td>104.00</td>\n",
       "      <td>163.00</td>\n",
       "      <td>No</td>\n",
       "      <td>No</td>\n",
       "      <td>High</td>\n",
       "    </tr>\n",
       "    <tr>\n",
       "      <th>2</th>\n",
       "      <td>3.00</td>\n",
       "      <td>32.00</td>\n",
       "      <td>Female</td>\n",
       "      <td>182.54</td>\n",
       "      <td>55.74</td>\n",
       "      <td>A</td>\n",
       "      <td>16.73</td>\n",
       "      <td>98.26</td>\n",
       "      <td>76.00</td>\n",
       "      <td>130.00</td>\n",
       "      <td>216.00</td>\n",
       "      <td>Yes</td>\n",
       "      <td>No</td>\n",
       "      <td>Low</td>\n",
       "    </tr>\n",
       "  </tbody>\n",
       "</table>\n",
       "</div>"
      ],
      "text/plain": [
       "   Student ID   Age  Gender  Height  Weight Blood Type   BMI  Temperature  \\\n",
       "0        1.00 18.00  Female  161.78   72.35          O 27.65          NaN   \n",
       "1        2.00   NaN    Male  152.07   47.63          B   NaN        98.71   \n",
       "2        3.00 32.00  Female  182.54   55.74          A 16.73        98.26   \n",
       "\n",
       "   Heart Rate  Blood Pressure  Cholesterol Diabetes Smoking BMIRANGE  \n",
       "0       95.00          109.00       203.00       No     NaN      Low  \n",
       "1       93.00          104.00       163.00       No      No     High  \n",
       "2       76.00          130.00       216.00      Yes      No      Low  "
      ]
     },
     "execution_count": 55,
     "metadata": {},
     "output_type": "execute_result"
    }
   ],
   "source": [
    "\n",
    "def BMIRANGE(BMI):\n",
    "    if BMI < 80000:\n",
    "        return 'Low'\n",
    "    elif 80000 <= BMI <= 150000:\n",
    "        return 'Medium'\n",
    "    else:\n",
    "        return 'High'\n",
    "\n",
    "df['BMIRANGE'] = df['BMI'].apply(BMIRANGE)\n",
    "\n",
    "df.head(3)"
   ]
  },
  {
   "cell_type": "markdown",
   "id": "e2e3744a",
   "metadata": {
    "papermill": {
     "duration": 0.031272,
     "end_time": "2024-11-23T12:31:09.418644",
     "exception": false,
     "start_time": "2024-11-23T12:31:09.387372",
     "status": "completed"
    },
    "tags": []
   },
   "source": [
    "BMI (Vücut Kitle İndeksi) değerlerini belirli aralıklara ayırarak her bir değere bir kategori atadık."
   ]
  },
  {
   "cell_type": "code",
   "execution_count": 56,
   "id": "3acab5bc",
   "metadata": {
    "execution": {
     "iopub.execute_input": "2024-11-23T12:31:09.483619Z",
     "iopub.status.busy": "2024-11-23T12:31:09.482831Z",
     "iopub.status.idle": "2024-11-23T12:31:10.929723Z",
     "shell.execute_reply": "2024-11-23T12:31:10.928601Z"
    },
    "papermill": {
     "duration": 1.481798,
     "end_time": "2024-11-23T12:31:10.932104",
     "exception": false,
     "start_time": "2024-11-23T12:31:09.450306",
     "status": "completed"
    },
    "tags": []
   },
   "outputs": [
    {
     "name": "stdout",
     "output_type": "stream",
     "text": [
      "        Student ID   Age  Gender  Height  Weight Blood Type   BMI  \\\n",
      "14           15.00 33.00    Male  184.72   93.67        NaN 27.45   \n",
      "33             NaN 33.00    Male  177.17   68.13          O 21.71   \n",
      "34           35.00 33.00    Male  160.46   55.76          A 21.65   \n",
      "54           55.00 34.00    Male  174.21     NaN          B 22.29   \n",
      "82           83.00 24.00  Female  162.04   80.64         AB 30.71   \n",
      "...            ...   ...     ...     ...     ...        ...   ...   \n",
      "199643    99644.00 26.00    Male  163.09   78.91          O   NaN   \n",
      "199800    99801.00 32.00    Male  172.58   79.39          A 26.66   \n",
      "199863    99864.00 19.00    Male     NaN   78.86          O 21.31   \n",
      "199881    99882.00 31.00  Female  174.72     NaN          B   NaN   \n",
      "199919    99920.00 21.00    Male  161.18   55.81          A 21.48   \n",
      "\n",
      "        Temperature  Heart Rate  Blood Pressure  Cholesterol Diabetes Smoking  \\\n",
      "14            98.42       68.00          133.00       180.00      Yes     Yes   \n",
      "33            98.20         NaN          116.00       143.00      Yes     Yes   \n",
      "34            99.16       77.00             NaN       152.00      Yes     Yes   \n",
      "54            98.92       74.00          129.00       139.00      Yes     Yes   \n",
      "82            99.00       98.00          137.00       205.00      Yes     Yes   \n",
      "...             ...         ...             ...          ...      ...     ...   \n",
      "199643        99.45       85.00           93.00       165.00      Yes     Yes   \n",
      "199800          NaN       81.00             NaN          NaN      Yes     Yes   \n",
      "199863        98.55         NaN          134.00          NaN      Yes     Yes   \n",
      "199881        98.28       77.00          110.00       136.00      Yes     Yes   \n",
      "199919        99.42       63.00          135.00       180.00      Yes     Yes   \n",
      "\n",
      "       BMIRANGE  is_smoking_and_diabetic  \n",
      "14          Low                     True  \n",
      "33          Low                     True  \n",
      "34          Low                     True  \n",
      "54          Low                     True  \n",
      "82          Low                     True  \n",
      "...         ...                      ...  \n",
      "199643     High                     True  \n",
      "199800      Low                     True  \n",
      "199863      Low                     True  \n",
      "199881     High                     True  \n",
      "199919      Low                     True  \n",
      "\n",
      "[3236 rows x 15 columns]\n"
     ]
    }
   ],
   "source": [
    "# Sigara içen ve diyabetli olan kişileri tespit et\n",
    "df['is_smoking_and_diabetic'] = df.apply(\n",
    "    lambda row: True if row['Smoking'] == 'Yes' and row['Diabetes'] == 'Yes' else False, axis=1\n",
    ")\n",
    "\n",
    "# Bu gruba giren kişileri filtrele\n",
    "smoking_and_diabetic = df[df['is_smoking_and_diabetic'] == True]\n",
    "\n",
    "# Sonuçları incele\n",
    "print(smoking_and_diabetic)"
   ]
  }
 ],
 "metadata": {
  "kaggle": {
   "accelerator": "none",
   "dataSources": [
    {
     "datasetId": 4533151,
     "sourceId": 7752914,
     "sourceType": "datasetVersion"
    }
   ],
   "dockerImageVersionId": 30786,
   "isGpuEnabled": false,
   "isInternetEnabled": false,
   "language": "python",
   "sourceType": "notebook"
  },
  "kernelspec": {
   "display_name": "Python 3",
   "language": "python",
   "name": "python3"
  },
  "language_info": {
   "codemirror_mode": {
    "name": "ipython",
    "version": 3
   },
   "file_extension": ".py",
   "mimetype": "text/x-python",
   "name": "python",
   "nbconvert_exporter": "python",
   "pygments_lexer": "ipython3",
   "version": "3.10.14"
  },
  "papermill": {
   "default_parameters": {},
   "duration": 37.816246,
   "end_time": "2024-11-23T12:31:12.189097",
   "environment_variables": {},
   "exception": null,
   "input_path": "__notebook__.ipynb",
   "output_path": "__notebook__.ipynb",
   "parameters": {},
   "start_time": "2024-11-23T12:30:34.372851",
   "version": "2.6.0"
  }
 },
 "nbformat": 4,
 "nbformat_minor": 5
}
